{
 "cells": [
  {
   "cell_type": "markdown",
   "id": "2fdf2c42",
   "metadata": {},
   "source": [
    "### Pandas 객체(자료구조)\n",
    "- 1차원 : 시리즈(Series)\n",
    "- 2차원 : 데이터프레임(DataFrame)"
   ]
  },
  {
   "cell_type": "code",
   "execution_count": 1,
   "id": "ffd89977",
   "metadata": {
    "ExecuteTime": {
     "end_time": "2022-12-09T06:21:37.837668Z",
     "start_time": "2022-12-09T06:21:37.498019Z"
    }
   },
   "outputs": [],
   "source": [
    "import pandas as pd\n",
    "# pandas 모듈을 불러와서 pd라고 부르겠다."
   ]
  },
  {
   "cell_type": "code",
   "execution_count": 2,
   "id": "83382295",
   "metadata": {
    "ExecuteTime": {
     "end_time": "2022-12-09T06:21:37.852599Z",
     "start_time": "2022-12-09T06:21:37.838670Z"
    }
   },
   "outputs": [
    {
     "data": {
      "text/plain": [
       "0    9602000\n",
       "1    3344000\n",
       "2    1488000\n",
       "3    2419000\n",
       "dtype: int64"
      ]
     },
     "execution_count": 2,
     "metadata": {},
     "output_type": "execute_result"
    }
   ],
   "source": [
    "# 1차원 시리즈 생성\n",
    "# list이용\n",
    "# 도시별 인구수 나타내는 Series 생성\n",
    "population = pd.Series([9602000,3344000,1488000,2419000])\n",
    "population"
   ]
  },
  {
   "cell_type": "code",
   "execution_count": 3,
   "id": "4e9b99a8",
   "metadata": {
    "ExecuteTime": {
     "end_time": "2022-12-09T06:21:37.867582Z",
     "start_time": "2022-12-09T06:21:37.853597Z"
    }
   },
   "outputs": [
    {
     "data": {
      "text/plain": [
       "서울    9602000\n",
       "부산    3344000\n",
       "광주    1488000\n",
       "대구    2419000\n",
       "dtype: int64"
      ]
     },
     "execution_count": 3,
     "metadata": {},
     "output_type": "execute_result"
    }
   ],
   "source": [
    "# 시리즈 데이터에 인덱스를 지정하여 생성\n",
    "population = pd.Series([9602000,3344000,1488000,2419000],\n",
    "                      index = ['서울','부산','광주','대구'])\n",
    "population"
   ]
  },
  {
   "cell_type": "code",
   "execution_count": 4,
   "id": "10ea0a09",
   "metadata": {
    "ExecuteTime": {
     "end_time": "2022-12-09T06:21:37.882649Z",
     "start_time": "2022-12-09T06:21:37.869578Z"
    }
   },
   "outputs": [
    {
     "data": {
      "text/plain": [
       "서울    605.2\n",
       "부산    770.1\n",
       "광주    501.1\n",
       "대구    883.5\n",
       "dtype: float64"
      ]
     },
     "execution_count": 4,
     "metadata": {},
     "output_type": "execute_result"
    }
   ],
   "source": [
    "# 딕셔너리를 이용해서 Series 생성하기\n",
    "# 면적에 대한 정보 생성\n",
    "# 딕셔너리명 = {'key1':value1}\n",
    "area = pd.Series({'서울':605.2,'부산':770.1,'광주':501.1,'대구':883.5})\n",
    "area"
   ]
  },
  {
   "cell_type": "code",
   "execution_count": 5,
   "id": "08c22f60",
   "metadata": {
    "ExecuteTime": {
     "end_time": "2022-12-09T06:21:37.897695Z",
     "start_time": "2022-12-09T06:21:37.883647Z"
    }
   },
   "outputs": [
    {
     "data": {
      "text/plain": [
       "array([9602000, 3344000, 1488000, 2419000], dtype=int64)"
      ]
     },
     "execution_count": 5,
     "metadata": {},
     "output_type": "execute_result"
    }
   ],
   "source": [
    "# 1. value 값만 확인하고 싶을 때\n",
    "population.values # 출력결과의 형태 --> numpy 배열"
   ]
  },
  {
   "cell_type": "code",
   "execution_count": 6,
   "id": "61ad281d",
   "metadata": {
    "ExecuteTime": {
     "end_time": "2022-12-09T06:21:37.912658Z",
     "start_time": "2022-12-09T06:21:37.898663Z"
    }
   },
   "outputs": [
    {
     "data": {
      "text/plain": [
       "Index(['서울', '부산', '광주', '대구'], dtype='object')"
      ]
     },
     "execution_count": 6,
     "metadata": {},
     "output_type": "execute_result"
    }
   ],
   "source": [
    "# 2. 시리즈의 인덱스 값을 확인하고 싶을 때\n",
    "population.index # object ==> 문자열 자료형"
   ]
  },
  {
   "cell_type": "code",
   "execution_count": 7,
   "id": "40fe3a68",
   "metadata": {
    "ExecuteTime": {
     "end_time": "2022-12-09T06:21:37.927701Z",
     "start_time": "2022-12-09T06:21:37.913657Z"
    }
   },
   "outputs": [
    {
     "data": {
      "text/plain": [
       "dtype('float64')"
      ]
     },
     "execution_count": 7,
     "metadata": {},
     "output_type": "execute_result"
    }
   ],
   "source": [
    "population.dtype\n",
    "area.dtype"
   ]
  },
  {
   "cell_type": "markdown",
   "id": "3414b3a4",
   "metadata": {},
   "source": [
    "#### 시리즈(Series) 이름 지정\n",
    "- 시리즈의 이름 DataFrame의 컬럼명이 된다"
   ]
  },
  {
   "cell_type": "code",
   "execution_count": 8,
   "id": "475d76c7",
   "metadata": {
    "ExecuteTime": {
     "end_time": "2022-12-09T06:21:37.942664Z",
     "start_time": "2022-12-09T06:21:37.928671Z"
    }
   },
   "outputs": [
    {
     "data": {
      "text/plain": [
       "서울    9602000\n",
       "부산    3344000\n",
       "광주    1488000\n",
       "대구    2419000\n",
       "Name: 2020 인구, dtype: int64"
      ]
     },
     "execution_count": 8,
     "metadata": {},
     "output_type": "execute_result"
    }
   ],
   "source": [
    "population.name = '2020 인구'\n",
    "population"
   ]
  },
  {
   "cell_type": "code",
   "execution_count": 9,
   "id": "45ef4f86",
   "metadata": {
    "ExecuteTime": {
     "end_time": "2022-12-09T06:21:37.957592Z",
     "start_time": "2022-12-09T06:21:37.943654Z"
    }
   },
   "outputs": [
    {
     "data": {
      "text/plain": [
       "도시\n",
       "서울    9602000\n",
       "부산    3344000\n",
       "광주    1488000\n",
       "대구    2419000\n",
       "Name: 2020 인구, dtype: int64"
      ]
     },
     "execution_count": 9,
     "metadata": {},
     "output_type": "execute_result"
    }
   ],
   "source": [
    "population.index.name = '도시'\n",
    "population"
   ]
  },
  {
   "cell_type": "code",
   "execution_count": 10,
   "id": "fe01a85e",
   "metadata": {
    "ExecuteTime": {
     "end_time": "2022-12-09T06:21:37.972568Z",
     "start_time": "2022-12-09T06:21:37.960585Z"
    }
   },
   "outputs": [],
   "source": [
    "population.index.name = '지역'"
   ]
  },
  {
   "cell_type": "code",
   "execution_count": 11,
   "id": "7c84c61d",
   "metadata": {
    "ExecuteTime": {
     "end_time": "2022-12-09T06:21:37.987672Z",
     "start_time": "2022-12-09T06:21:37.973565Z"
    }
   },
   "outputs": [
    {
     "data": {
      "text/plain": [
       "지역\n",
       "서울    9602000\n",
       "부산    3344000\n",
       "광주    1488000\n",
       "대구    2419000\n",
       "Name: 2020 인구, dtype: int64"
      ]
     },
     "execution_count": 11,
     "metadata": {},
     "output_type": "execute_result"
    }
   ],
   "source": [
    "population"
   ]
  },
  {
   "cell_type": "markdown",
   "id": "c00534d7",
   "metadata": {},
   "source": [
    "#### 시리즈 데이터 갱신, 삭제 , 추가"
   ]
  },
  {
   "cell_type": "code",
   "execution_count": 68,
   "id": "4be9e873",
   "metadata": {
    "ExecuteTime": {
     "end_time": "2022-12-09T06:24:30.765690Z",
     "start_time": "2022-12-09T06:24:30.757711Z"
    }
   },
   "outputs": [
    {
     "data": {
      "text/plain": [
       "도시\n",
       "서울    9602000\n",
       "부산    3500000\n",
       "광주    1488000\n",
       "대구    2419000\n",
       "전주    2419000\n",
       "인천    2951000\n",
       "대전    2419000\n",
       "Name: 2020 인구, dtype: int64"
      ]
     },
     "execution_count": 68,
     "metadata": {},
     "output_type": "execute_result"
    }
   ],
   "source": [
    "# 갱신(수정) ==> 1. 인덱스 위치 접근 2. 값을 대입\n",
    "population['대전'] = 2419000\n",
    "population"
   ]
  },
  {
   "cell_type": "code",
   "execution_count": 13,
   "id": "2f6167ca",
   "metadata": {
    "ExecuteTime": {
     "end_time": "2022-12-09T06:21:38.017592Z",
     "start_time": "2022-12-09T06:21:38.003647Z"
    }
   },
   "outputs": [],
   "source": [
    "# 삭제 : drop()\n",
    "# population('부산', inplace=True) # 데이터를 삭제하고 원래 위치에 반영\n",
    "# inplace의 기본값은 False\n",
    "# population = population.drop('부산') # 삭제한 결과를 원래의 변수에 대입\n",
    "#population = population.drop('부산')"
   ]
  },
  {
   "cell_type": "code",
   "execution_count": 14,
   "id": "907000b7",
   "metadata": {
    "ExecuteTime": {
     "end_time": "2022-12-09T06:21:38.032552Z",
     "start_time": "2022-12-09T06:21:38.018589Z"
    }
   },
   "outputs": [
    {
     "data": {
      "text/plain": [
       "지역\n",
       "서울    9602000\n",
       "부산    3500000\n",
       "광주    1488000\n",
       "대구    2419000\n",
       "Name: 2020 인구, dtype: int64"
      ]
     },
     "execution_count": 14,
     "metadata": {},
     "output_type": "execute_result"
    }
   ],
   "source": [
    "population"
   ]
  },
  {
   "cell_type": "code",
   "execution_count": 15,
   "id": "216194d3",
   "metadata": {
    "ExecuteTime": {
     "end_time": "2022-12-09T06:21:38.047512Z",
     "start_time": "2022-12-09T06:21:38.034547Z"
    }
   },
   "outputs": [],
   "source": [
    "# 추가 : 없는 키 값을 불러주고 값을 대입\n",
    "# '전주' : 1400000\n",
    "population['전주'] = 1400000"
   ]
  },
  {
   "cell_type": "code",
   "execution_count": 16,
   "id": "826499de",
   "metadata": {
    "ExecuteTime": {
     "end_time": "2022-12-09T06:21:38.062472Z",
     "start_time": "2022-12-09T06:21:38.048509Z"
    }
   },
   "outputs": [
    {
     "data": {
      "text/plain": [
       "지역\n",
       "서울    9602000\n",
       "부산    3500000\n",
       "광주    1488000\n",
       "대구    2419000\n",
       "전주    1400000\n",
       "Name: 2020 인구, dtype: int64"
      ]
     },
     "execution_count": 16,
     "metadata": {},
     "output_type": "execute_result"
    }
   ],
   "source": [
    "population"
   ]
  },
  {
   "cell_type": "code",
   "execution_count": 17,
   "id": "9a08a38f",
   "metadata": {
    "ExecuteTime": {
     "end_time": "2022-12-09T06:21:38.077432Z",
     "start_time": "2022-12-09T06:21:38.063470Z"
    }
   },
   "outputs": [
    {
     "data": {
      "text/plain": [
       "도시\n",
       "서울    9602000\n",
       "부산    3500000\n",
       "광주    1488000\n",
       "대구    2419000\n",
       "전주    1400000\n",
       "인천    2951000\n",
       "Name: 2020 인구, dtype: int64"
      ]
     },
     "execution_count": 17,
     "metadata": {},
     "output_type": "execute_result"
    }
   ],
   "source": [
    "population.index.name = '도시'\n",
    "population['인천'] = 2951000\n",
    "population"
   ]
  },
  {
   "attachments": {
    "image.png": {
     "image/png": "[encoded data removed]"
    }
   },
   "cell_type": "markdown",
   "id": "c852cdb8",
   "metadata": {},
   "source": [
    "![image.png](attachment:image.png)"
   ]
  },
  {
   "cell_type": "code",
   "execution_count": 18,
   "id": "49afa069",
   "metadata": {
    "ExecuteTime": {
     "end_time": "2022-12-09T06:21:38.092392Z",
     "start_time": "2022-12-09T06:21:38.078429Z"
    }
   },
   "outputs": [
    {
     "data": {
      "text/plain": [
       "서울    605.2\n",
       "부산    770.1\n",
       "광주    501.1\n",
       "대구    883.5\n",
       "dtype: float64"
      ]
     },
     "execution_count": 18,
     "metadata": {},
     "output_type": "execute_result"
    }
   ],
   "source": [
    "area"
   ]
  },
  {
   "cell_type": "code",
   "execution_count": 67,
   "id": "9c6ba3c0",
   "metadata": {
    "ExecuteTime": {
     "end_time": "2022-12-09T06:24:24.236140Z",
     "start_time": "2022-12-09T06:24:24.219184Z"
    }
   },
   "outputs": [],
   "source": [
    "area.index.name = '지역'\n",
    "area.name = '면적(㎦)'\n",
    "area['전주'] = 883.5\n",
    "area['인천'] = 1065.2"
   ]
  },
  {
   "cell_type": "code",
   "execution_count": 20,
   "id": "b0daeed3",
   "metadata": {
    "ExecuteTime": {
     "end_time": "2022-12-09T06:21:38.122312Z",
     "start_time": "2022-12-09T06:21:38.108350Z"
    }
   },
   "outputs": [
    {
     "data": {
      "text/plain": [
       "지역\n",
       "서울     605.2\n",
       "부산     770.1\n",
       "광주     501.1\n",
       "대구     883.5\n",
       "대전     883.5\n",
       "인천    1065.2\n",
       "Name: 면적(㎦), dtype: float64"
      ]
     },
     "execution_count": 20,
     "metadata": {},
     "output_type": "execute_result"
    }
   ],
   "source": [
    "area"
   ]
  },
  {
   "cell_type": "markdown",
   "id": "26ab976e",
   "metadata": {},
   "source": [
    "#### 시리즈 병합(concat)\n",
    "- 1차원을 연결하여 2차원으로 변환\n",
    "- 시리즈의 이름이 데이터프레임의 컬럼명이 됨"
   ]
  },
  {
   "cell_type": "code",
   "execution_count": 21,
   "id": "44856003",
   "metadata": {
    "ExecuteTime": {
     "end_time": "2022-12-09T06:21:38.137272Z",
     "start_time": "2022-12-09T06:21:38.123310Z"
    }
   },
   "outputs": [
    {
     "data": {
      "text/plain": [
       "서울    9602000.0\n",
       "부산    3500000.0\n",
       "광주    1488000.0\n",
       "대구    2419000.0\n",
       "전주    1400000.0\n",
       "인천    2951000.0\n",
       "서울        605.2\n",
       "부산        770.1\n",
       "광주        501.1\n",
       "대구        883.5\n",
       "대전        883.5\n",
       "인천       1065.2\n",
       "dtype: float64"
      ]
     },
     "execution_count": 21,
     "metadata": {},
     "output_type": "execute_result"
    }
   ],
   "source": [
    "# axis = 0 : 행방향  ↓\n",
    "# axis = 1 : 열방향  →\n",
    "df = pd.concat([population, area])\n",
    "df"
   ]
  },
  {
   "cell_type": "code",
   "execution_count": 76,
   "id": "eb9384eb",
   "metadata": {
    "ExecuteTime": {
     "end_time": "2022-12-09T06:25:44.930517Z",
     "start_time": "2022-12-09T06:25:44.915528Z"
    }
   },
   "outputs": [
    {
     "data": {
      "text/html": [
       "<div>\n",
       "<style scoped>\n",
       "    .dataframe tbody tr th:only-of-type {\n",
       "        vertical-align: middle;\n",
       "    }\n",
       "\n",
       "    .dataframe tbody tr th {\n",
       "        vertical-align: top;\n",
       "    }\n",
       "\n",
       "    .dataframe thead th {\n",
       "        text-align: right;\n",
       "    }\n",
       "</style>\n",
       "<table border=\"1\" class=\"dataframe\">\n",
       "  <thead>\n",
       "    <tr style=\"text-align: right;\">\n",
       "      <th></th>\n",
       "      <th>2020 인구</th>\n",
       "      <th>면적(㎦)</th>\n",
       "    </tr>\n",
       "  </thead>\n",
       "  <tbody>\n",
       "    <tr>\n",
       "      <th>서울</th>\n",
       "      <td>9602000</td>\n",
       "      <td>605.2</td>\n",
       "    </tr>\n",
       "    <tr>\n",
       "      <th>부산</th>\n",
       "      <td>3500000</td>\n",
       "      <td>770.1</td>\n",
       "    </tr>\n",
       "    <tr>\n",
       "      <th>광주</th>\n",
       "      <td>1488000</td>\n",
       "      <td>501.1</td>\n",
       "    </tr>\n",
       "    <tr>\n",
       "      <th>대구</th>\n",
       "      <td>2419000</td>\n",
       "      <td>883.5</td>\n",
       "    </tr>\n",
       "    <tr>\n",
       "      <th>전주</th>\n",
       "      <td>2419000</td>\n",
       "      <td>883.5</td>\n",
       "    </tr>\n",
       "    <tr>\n",
       "      <th>인천</th>\n",
       "      <td>2951000</td>\n",
       "      <td>1065.2</td>\n",
       "    </tr>\n",
       "    <tr>\n",
       "      <th>대전</th>\n",
       "      <td>2419000</td>\n",
       "      <td>883.5</td>\n",
       "    </tr>\n",
       "  </tbody>\n",
       "</table>\n",
       "</div>"
      ],
      "text/plain": [
       "    2020 인구   면적(㎦)\n",
       "서울  9602000   605.2\n",
       "부산  3500000   770.1\n",
       "광주  1488000   501.1\n",
       "대구  2419000   883.5\n",
       "전주  2419000   883.5\n",
       "인천  2951000  1065.2\n",
       "대전  2419000   883.5"
      ]
     },
     "execution_count": 76,
     "metadata": {},
     "output_type": "execute_result"
    }
   ],
   "source": [
    "# 열방향으로 병합\n",
    "df2 = pd.concat([population, area], axis = 1)\n",
    "df2"
   ]
  },
  {
   "cell_type": "markdown",
   "id": "fee41e0d",
   "metadata": {},
   "source": [
    "#### 2차원 데이터프레임(DataFrame) 생성"
   ]
  },
  {
   "cell_type": "code",
   "execution_count": 23,
   "id": "6bcc4b9c",
   "metadata": {
    "ExecuteTime": {
     "end_time": "2022-12-09T06:21:38.182152Z",
     "start_time": "2022-12-09T06:21:38.168189Z"
    }
   },
   "outputs": [
    {
     "data": {
      "text/html": [
       "<div>\n",
       "<style scoped>\n",
       "    .dataframe tbody tr th:only-of-type {\n",
       "        vertical-align: middle;\n",
       "    }\n",
       "\n",
       "    .dataframe tbody tr th {\n",
       "        vertical-align: top;\n",
       "    }\n",
       "\n",
       "    .dataframe thead th {\n",
       "        text-align: right;\n",
       "    }\n",
       "</style>\n",
       "<table border=\"1\" class=\"dataframe\">\n",
       "  <thead>\n",
       "    <tr style=\"text-align: right;\">\n",
       "      <th></th>\n",
       "      <th>0</th>\n",
       "      <th>1</th>\n",
       "    </tr>\n",
       "  </thead>\n",
       "  <tbody>\n",
       "    <tr>\n",
       "      <th>0</th>\n",
       "      <td>1488000</td>\n",
       "      <td>501.1</td>\n",
       "    </tr>\n",
       "    <tr>\n",
       "      <th>1</th>\n",
       "      <td>2419000</td>\n",
       "      <td>883.5</td>\n",
       "    </tr>\n",
       "    <tr>\n",
       "      <th>2</th>\n",
       "      <td>1400000</td>\n",
       "      <td>883.5</td>\n",
       "    </tr>\n",
       "    <tr>\n",
       "      <th>3</th>\n",
       "      <td>2951000</td>\n",
       "      <td>1065.2</td>\n",
       "    </tr>\n",
       "  </tbody>\n",
       "</table>\n",
       "</div>"
      ],
      "text/plain": [
       "         0       1\n",
       "0  1488000   501.1\n",
       "1  2419000   883.5\n",
       "2  1400000   883.5\n",
       "3  2951000  1065.2"
      ]
     },
     "execution_count": 23,
     "metadata": {},
     "output_type": "execute_result"
    }
   ],
   "source": [
    "# list 이용 데이터프레임 생성\n",
    "data = [[1488000, 501.1],[2419000,883.5],[1400000,883.5],[2951000,1065.2]]\n",
    "df3 = pd.DataFrame(data)\n",
    "df3"
   ]
  },
  {
   "cell_type": "code",
   "execution_count": 24,
   "id": "0589eaf7",
   "metadata": {
    "ExecuteTime": {
     "end_time": "2022-12-09T06:21:38.197112Z",
     "start_time": "2022-12-09T06:21:38.183149Z"
    }
   },
   "outputs": [
    {
     "data": {
      "text/html": [
       "<div>\n",
       "<style scoped>\n",
       "    .dataframe tbody tr th:only-of-type {\n",
       "        vertical-align: middle;\n",
       "    }\n",
       "\n",
       "    .dataframe tbody tr th {\n",
       "        vertical-align: top;\n",
       "    }\n",
       "\n",
       "    .dataframe thead th {\n",
       "        text-align: right;\n",
       "    }\n",
       "</style>\n",
       "<table border=\"1\" class=\"dataframe\">\n",
       "  <thead>\n",
       "    <tr style=\"text-align: right;\">\n",
       "      <th></th>\n",
       "      <th>2020 인구</th>\n",
       "      <th>면적(㎢)</th>\n",
       "    </tr>\n",
       "  </thead>\n",
       "  <tbody>\n",
       "    <tr>\n",
       "      <th>광주</th>\n",
       "      <td>1488000</td>\n",
       "      <td>501.1</td>\n",
       "    </tr>\n",
       "    <tr>\n",
       "      <th>대구</th>\n",
       "      <td>2419000</td>\n",
       "      <td>883.5</td>\n",
       "    </tr>\n",
       "    <tr>\n",
       "      <th>전주</th>\n",
       "      <td>1400000</td>\n",
       "      <td>883.5</td>\n",
       "    </tr>\n",
       "    <tr>\n",
       "      <th>인천</th>\n",
       "      <td>2951000</td>\n",
       "      <td>1065.2</td>\n",
       "    </tr>\n",
       "  </tbody>\n",
       "</table>\n",
       "</div>"
      ],
      "text/plain": [
       "    2020 인구   면적(㎢)\n",
       "광주  1488000   501.1\n",
       "대구  2419000   883.5\n",
       "전주  1400000   883.5\n",
       "인천  2951000  1065.2"
      ]
     },
     "execution_count": 24,
     "metadata": {},
     "output_type": "execute_result"
    }
   ],
   "source": [
    "# 인덱스명,컬럼명 설정\n",
    "df3 = pd.DataFrame(data, index = ['광주','대구','전주','인천'],\n",
    "                    columns = ['2020 인구','면적(㎢)'])\n",
    "df3"
   ]
  },
  {
   "cell_type": "code",
   "execution_count": 25,
   "id": "f9e0e3c6",
   "metadata": {
    "ExecuteTime": {
     "end_time": "2022-12-09T06:21:38.212072Z",
     "start_time": "2022-12-09T06:21:38.199108Z"
    }
   },
   "outputs": [
    {
     "data": {
      "text/html": [
       "<div>\n",
       "<style scoped>\n",
       "    .dataframe tbody tr th:only-of-type {\n",
       "        vertical-align: middle;\n",
       "    }\n",
       "\n",
       "    .dataframe tbody tr th {\n",
       "        vertical-align: top;\n",
       "    }\n",
       "\n",
       "    .dataframe thead th {\n",
       "        text-align: right;\n",
       "    }\n",
       "</style>\n",
       "<table border=\"1\" class=\"dataframe\">\n",
       "  <thead>\n",
       "    <tr style=\"text-align: right;\">\n",
       "      <th></th>\n",
       "      <th>2020 인구</th>\n",
       "      <th>면적(㎢)</th>\n",
       "    </tr>\n",
       "  </thead>\n",
       "  <tbody>\n",
       "    <tr>\n",
       "      <th>광주</th>\n",
       "      <td>1488000</td>\n",
       "      <td>501.1</td>\n",
       "    </tr>\n",
       "    <tr>\n",
       "      <th>대구</th>\n",
       "      <td>2419000</td>\n",
       "      <td>883.5</td>\n",
       "    </tr>\n",
       "    <tr>\n",
       "      <th>전주</th>\n",
       "      <td>1400000</td>\n",
       "      <td>883.5</td>\n",
       "    </tr>\n",
       "    <tr>\n",
       "      <th>인천</th>\n",
       "      <td>2951000</td>\n",
       "      <td>1065.2</td>\n",
       "    </tr>\n",
       "  </tbody>\n",
       "</table>\n",
       "</div>"
      ],
      "text/plain": [
       "    2020 인구   면적(㎢)\n",
       "광주  1488000   501.1\n",
       "대구  2419000   883.5\n",
       "전주  1400000   883.5\n",
       "인천  2951000  1065.2"
      ]
     },
     "execution_count": 25,
     "metadata": {},
     "output_type": "execute_result"
    }
   ],
   "source": [
    "# 딕셔너리를 이용하여 데이터프레임 생성\n",
    "data = {'2020 인구' :[1488000,2419000,1400000,2951000],\n",
    "       \"면적(㎢)\":[501.1,883.5,883.5,1065.2]}\n",
    "df4 = pd.DataFrame(data, index = ['광주','대구','전주','인천'])\n",
    "df4"
   ]
  },
  {
   "attachments": {
    "image.png": {
     "image/png": "[encoded data removed]"
    }
   },
   "cell_type": "markdown",
   "id": "4779ef4f",
   "metadata": {},
   "source": [
    "![image.png](attachment:image.png)"
   ]
  },
  {
   "cell_type": "code",
   "execution_count": 26,
   "id": "1d25b11e",
   "metadata": {
    "ExecuteTime": {
     "end_time": "2022-12-09T06:21:38.227032Z",
     "start_time": "2022-12-09T06:21:38.213070Z"
    }
   },
   "outputs": [
    {
     "data": {
      "text/html": [
       "<div>\n",
       "<style scoped>\n",
       "    .dataframe tbody tr th:only-of-type {\n",
       "        vertical-align: middle;\n",
       "    }\n",
       "\n",
       "    .dataframe tbody tr th {\n",
       "        vertical-align: top;\n",
       "    }\n",
       "\n",
       "    .dataframe thead th {\n",
       "        text-align: right;\n",
       "    }\n",
       "</style>\n",
       "<table border=\"1\" class=\"dataframe\">\n",
       "  <thead>\n",
       "    <tr style=\"text-align: right;\">\n",
       "      <th></th>\n",
       "      <th>키</th>\n",
       "      <th>몸무게</th>\n",
       "      <th>나이</th>\n",
       "    </tr>\n",
       "  </thead>\n",
       "  <tbody>\n",
       "    <tr>\n",
       "      <th>홍길동</th>\n",
       "      <td>175.3</td>\n",
       "      <td>66.2</td>\n",
       "      <td>27.0</td>\n",
       "    </tr>\n",
       "    <tr>\n",
       "      <th>김사또</th>\n",
       "      <td>180.2</td>\n",
       "      <td>78.9</td>\n",
       "      <td>49.0</td>\n",
       "    </tr>\n",
       "    <tr>\n",
       "      <th>임꺽정</th>\n",
       "      <td>178.6</td>\n",
       "      <td>55.1</td>\n",
       "      <td>35.0</td>\n",
       "    </tr>\n",
       "  </tbody>\n",
       "</table>\n",
       "</div>"
      ],
      "text/plain": [
       "         키   몸무게    나이\n",
       "홍길동  175.3  66.2  27.0\n",
       "김사또  180.2  78.9  49.0\n",
       "임꺽정  178.6  55.1  35.0"
      ]
     },
     "execution_count": 26,
     "metadata": {},
     "output_type": "execute_result"
    }
   ],
   "source": [
    "data = {'키' :[175.3,180.2,178.6],\n",
    "       \"몸무게\":[66.2,78.9,55.1],\n",
    "       '나이':[27.0,49.0,35.0]}\n",
    "df5 = pd.DataFrame(data, index = ['홍길동','김사또','임꺽정'])\n",
    "df5"
   ]
  },
  {
   "cell_type": "code",
   "execution_count": 27,
   "id": "6d086e74",
   "metadata": {
    "ExecuteTime": {
     "end_time": "2022-12-09T06:21:38.241992Z",
     "start_time": "2022-12-09T06:21:38.228030Z"
    }
   },
   "outputs": [
    {
     "data": {
      "text/html": [
       "<div>\n",
       "<style scoped>\n",
       "    .dataframe tbody tr th:only-of-type {\n",
       "        vertical-align: middle;\n",
       "    }\n",
       "\n",
       "    .dataframe tbody tr th {\n",
       "        vertical-align: top;\n",
       "    }\n",
       "\n",
       "    .dataframe thead th {\n",
       "        text-align: right;\n",
       "    }\n",
       "</style>\n",
       "<table border=\"1\" class=\"dataframe\">\n",
       "  <thead>\n",
       "    <tr style=\"text-align: right;\">\n",
       "      <th></th>\n",
       "      <th>홍길동</th>\n",
       "      <th>김사또</th>\n",
       "      <th>임꺽정</th>\n",
       "    </tr>\n",
       "  </thead>\n",
       "  <tbody>\n",
       "    <tr>\n",
       "      <th>키</th>\n",
       "      <td>175.3</td>\n",
       "      <td>180.2</td>\n",
       "      <td>178.6</td>\n",
       "    </tr>\n",
       "    <tr>\n",
       "      <th>몸무게</th>\n",
       "      <td>66.2</td>\n",
       "      <td>78.9</td>\n",
       "      <td>55.1</td>\n",
       "    </tr>\n",
       "    <tr>\n",
       "      <th>나이</th>\n",
       "      <td>27.0</td>\n",
       "      <td>49.0</td>\n",
       "      <td>35.0</td>\n",
       "    </tr>\n",
       "  </tbody>\n",
       "</table>\n",
       "</div>"
      ],
      "text/plain": [
       "       홍길동    김사또    임꺽정\n",
       "키    175.3  180.2  178.6\n",
       "몸무게   66.2   78.9   55.1\n",
       "나이    27.0   49.0   35.0"
      ]
     },
     "execution_count": 27,
     "metadata": {},
     "output_type": "execute_result"
    }
   ],
   "source": [
    "# 행과 열을 전환하는 키워드 .T(전치 - transpose)\n",
    "df5_T=df5.T\n",
    "df5_T"
   ]
  },
  {
   "cell_type": "markdown",
   "id": "fda6ab09",
   "metadata": {},
   "source": [
    "### Pandas 데이터 접근하기 : 인덱싱 & 슬라이싱"
   ]
  },
  {
   "cell_type": "markdown",
   "id": "7a17cfd5",
   "metadata": {},
   "source": [
    "#### 시리즈 인덱싱"
   ]
  },
  {
   "cell_type": "code",
   "execution_count": 28,
   "id": "dc2fd7b4",
   "metadata": {
    "ExecuteTime": {
     "end_time": "2022-12-09T06:21:38.256952Z",
     "start_time": "2022-12-09T06:21:38.245981Z"
    }
   },
   "outputs": [
    {
     "data": {
      "text/plain": [
       "java         95\n",
       "python      100\n",
       "db           85\n",
       "html/css     70\n",
       "dtype: int64"
      ]
     },
     "execution_count": 28,
     "metadata": {},
     "output_type": "execute_result"
    }
   ],
   "source": [
    "stud1 = pd.Series({'java':95,'python':100,'db':85,'html/css':70})\n",
    "stud1"
   ]
  },
  {
   "cell_type": "code",
   "execution_count": 29,
   "id": "c49e3c7d",
   "metadata": {
    "ExecuteTime": {
     "end_time": "2022-12-09T06:21:38.271912Z",
     "start_time": "2022-12-09T06:21:38.257949Z"
    }
   },
   "outputs": [
    {
     "data": {
      "text/plain": [
       "95"
      ]
     },
     "execution_count": 29,
     "metadata": {},
     "output_type": "execute_result"
    }
   ],
   "source": [
    "# 인덱싱 --> java 데이터에 접근\n",
    "stud1['java']\n",
    "stud1[0]"
   ]
  },
  {
   "cell_type": "code",
   "execution_count": 30,
   "id": "32cc8106",
   "metadata": {
    "ExecuteTime": {
     "end_time": "2022-12-09T06:21:38.286872Z",
     "start_time": "2022-12-09T06:21:38.272910Z"
    }
   },
   "outputs": [
    {
     "data": {
      "text/plain": [
       "70"
      ]
     },
     "execution_count": 30,
     "metadata": {},
     "output_type": "execute_result"
    }
   ],
   "source": [
    "# html/css 데이터에 접근\n",
    "stud1['html/css']\n",
    "stud1[3]"
   ]
  },
  {
   "cell_type": "code",
   "execution_count": 31,
   "id": "6a204225",
   "metadata": {
    "ExecuteTime": {
     "end_time": "2022-12-09T06:21:38.301832Z",
     "start_time": "2022-12-09T06:21:38.287870Z"
    }
   },
   "outputs": [
    {
     "data": {
      "text/plain": [
       "java    95\n",
       "db      85\n",
       "dtype: int64"
      ]
     },
     "execution_count": 31,
     "metadata": {},
     "output_type": "execute_result"
    }
   ],
   "source": [
    "# 여러개의 데이터를 한번에 인덱싱하기\n",
    "# java, db\n",
    "stud1[0:3:2]\n",
    "stud1[['java','db']]"
   ]
  },
  {
   "cell_type": "code",
   "execution_count": 32,
   "id": "656965f7",
   "metadata": {
    "ExecuteTime": {
     "end_time": "2022-12-09T06:21:38.316792Z",
     "start_time": "2022-12-09T06:21:38.302830Z"
    }
   },
   "outputs": [
    {
     "data": {
      "text/plain": [
       "python      100\n",
       "db           85\n",
       "html/css     70\n",
       "dtype: int64"
      ]
     },
     "execution_count": 32,
     "metadata": {},
     "output_type": "execute_result"
    }
   ],
   "source": [
    "# 파이썬부터 html/css 접근\n",
    "stud1[1:]"
   ]
  },
  {
   "cell_type": "code",
   "execution_count": 33,
   "id": "f40996a7",
   "metadata": {
    "ExecuteTime": {
     "end_time": "2022-12-09T06:21:38.331752Z",
     "start_time": "2022-12-09T06:21:38.317790Z"
    }
   },
   "outputs": [
    {
     "data": {
      "text/plain": [
       "java       95\n",
       "python    100\n",
       "dtype: int64"
      ]
     },
     "metadata": {},
     "output_type": "display_data"
    },
    {
     "data": {
      "text/plain": [
       "python      100\n",
       "db           85\n",
       "html/css     70\n",
       "dtype: int64"
      ]
     },
     "metadata": {},
     "output_type": "display_data"
    }
   ],
   "source": [
    "display(stud1[:2])\n",
    "display(stud1[1:]) # display() 프린트 출력문 한칸 띄워줌"
   ]
  },
  {
   "cell_type": "markdown",
   "id": "f59b0673",
   "metadata": {
    "ExecuteTime": {
     "end_time": "2022-12-08T07:42:28.084658Z",
     "start_time": "2022-12-08T07:42:28.073688Z"
    }
   },
   "source": [
    "#### 시리즈 블리언 인덱싱\n"
   ]
  },
  {
   "cell_type": "code",
   "execution_count": 34,
   "id": "30d2f68a",
   "metadata": {
    "ExecuteTime": {
     "end_time": "2022-12-09T06:21:38.346712Z",
     "start_time": "2022-12-09T06:21:38.333747Z"
    }
   },
   "outputs": [
    {
     "data": {
      "text/plain": [
       "java       95\n",
       "python    100\n",
       "db         85\n",
       "dtype: int64"
      ]
     },
     "execution_count": 34,
     "metadata": {},
     "output_type": "execute_result"
    }
   ],
   "source": [
    "# 데이터 안에서 85점 이상인 과목 확인하기\n",
    "stud1[stud1 >=85]"
   ]
  },
  {
   "cell_type": "code",
   "execution_count": 35,
   "id": "99fda7f9",
   "metadata": {
    "ExecuteTime": {
     "end_time": "2022-12-09T06:21:38.361672Z",
     "start_time": "2022-12-09T06:21:38.348710Z"
    }
   },
   "outputs": [
    {
     "data": {
      "text/plain": [
       "Index(['java', 'python', 'db'], dtype='object')"
      ]
     },
     "execution_count": 35,
     "metadata": {},
     "output_type": "execute_result"
    }
   ],
   "source": [
    "stud1[stud1 >=85].index"
   ]
  },
  {
   "cell_type": "code",
   "execution_count": 36,
   "id": "c25789b2",
   "metadata": {
    "ExecuteTime": {
     "end_time": "2022-12-09T06:21:38.376632Z",
     "start_time": "2022-12-09T06:21:38.362670Z"
    }
   },
   "outputs": [
    {
     "data": {
      "text/plain": [
       "Index(['java', 'python'], dtype='object')"
      ]
     },
     "execution_count": 36,
     "metadata": {},
     "output_type": "execute_result"
    }
   ],
   "source": [
    "# 데이터 안에서 90점 이상인 과목 확인하기 \n",
    "stud1[stud1 >=90].index"
   ]
  },
  {
   "cell_type": "code",
   "execution_count": 37,
   "id": "36aab702",
   "metadata": {
    "ExecuteTime": {
     "end_time": "2022-12-09T06:21:38.391620Z",
     "start_time": "2022-12-09T06:21:38.377629Z"
    }
   },
   "outputs": [
    {
     "data": {
      "text/plain": [
       "Index(['db'], dtype='object')"
      ]
     },
     "execution_count": 37,
     "metadata": {},
     "output_type": "execute_result"
    }
   ],
   "source": [
    "# 75점 이상 90점 미만인 과목 접근하기 (두 개의 조건을 연결 - 비트 연산 )\n",
    "stud1[(stud1 >= 75) & (stud1 < 90)].index"
   ]
  },
  {
   "cell_type": "markdown",
   "id": "ecc691ca",
   "metadata": {},
   "source": [
    "#### 2차원 데이터프레임 데이터 접근"
   ]
  },
  {
   "cell_type": "code",
   "execution_count": 38,
   "id": "f9d7b776",
   "metadata": {
    "ExecuteTime": {
     "end_time": "2022-12-09T06:21:38.406581Z",
     "start_time": "2022-12-09T06:21:38.392621Z"
    }
   },
   "outputs": [],
   "source": [
    "df_stud = pd.DataFrame({'java':[95,85],'python':[100,95],'db':[85,85],'html/css':[70,75]},\n",
    "                       index = ['hc','jh'])"
   ]
  },
  {
   "cell_type": "code",
   "execution_count": 39,
   "id": "edfbf686",
   "metadata": {
    "ExecuteTime": {
     "end_time": "2022-12-09T06:21:38.422041Z",
     "start_time": "2022-12-09T06:21:38.408569Z"
    }
   },
   "outputs": [
    {
     "data": {
      "text/html": [
       "<div>\n",
       "<style scoped>\n",
       "    .dataframe tbody tr th:only-of-type {\n",
       "        vertical-align: middle;\n",
       "    }\n",
       "\n",
       "    .dataframe tbody tr th {\n",
       "        vertical-align: top;\n",
       "    }\n",
       "\n",
       "    .dataframe thead th {\n",
       "        text-align: right;\n",
       "    }\n",
       "</style>\n",
       "<table border=\"1\" class=\"dataframe\">\n",
       "  <thead>\n",
       "    <tr style=\"text-align: right;\">\n",
       "      <th></th>\n",
       "      <th>java</th>\n",
       "      <th>python</th>\n",
       "      <th>db</th>\n",
       "      <th>html/css</th>\n",
       "    </tr>\n",
       "  </thead>\n",
       "  <tbody>\n",
       "    <tr>\n",
       "      <th>hc</th>\n",
       "      <td>95</td>\n",
       "      <td>100</td>\n",
       "      <td>85</td>\n",
       "      <td>70</td>\n",
       "    </tr>\n",
       "    <tr>\n",
       "      <th>jh</th>\n",
       "      <td>85</td>\n",
       "      <td>95</td>\n",
       "      <td>85</td>\n",
       "      <td>75</td>\n",
       "    </tr>\n",
       "  </tbody>\n",
       "</table>\n",
       "</div>"
      ],
      "text/plain": [
       "    java  python  db  html/css\n",
       "hc    95     100  85        70\n",
       "jh    85      95  85        75"
      ]
     },
     "execution_count": 39,
     "metadata": {},
     "output_type": "execute_result"
    }
   ],
   "source": [
    "df_stud"
   ]
  },
  {
   "cell_type": "code",
   "execution_count": 40,
   "id": "96005d8f",
   "metadata": {
    "ExecuteTime": {
     "end_time": "2022-12-09T06:21:38.437042Z",
     "start_time": "2022-12-09T06:21:38.423039Z"
    }
   },
   "outputs": [
    {
     "data": {
      "text/plain": [
       "hc    100\n",
       "jh     95\n",
       "Name: python, dtype: int64"
      ]
     },
     "execution_count": 40,
     "metadata": {},
     "output_type": "execute_result"
    }
   ],
   "source": [
    "# python 성적 데이터 접근\n",
    "df_stud['python'] # 1차원\n",
    "# 2차원에서 []열고 값을 입력하면 컬럼이라고 인식"
   ]
  },
  {
   "cell_type": "code",
   "execution_count": 41,
   "id": "1e8e1a20",
   "metadata": {
    "ExecuteTime": {
     "end_time": "2022-12-09T06:21:38.451990Z",
     "start_time": "2022-12-09T06:21:38.438000Z"
    }
   },
   "outputs": [
    {
     "data": {
      "text/html": [
       "<div>\n",
       "<style scoped>\n",
       "    .dataframe tbody tr th:only-of-type {\n",
       "        vertical-align: middle;\n",
       "    }\n",
       "\n",
       "    .dataframe tbody tr th {\n",
       "        vertical-align: top;\n",
       "    }\n",
       "\n",
       "    .dataframe thead th {\n",
       "        text-align: right;\n",
       "    }\n",
       "</style>\n",
       "<table border=\"1\" class=\"dataframe\">\n",
       "  <thead>\n",
       "    <tr style=\"text-align: right;\">\n",
       "      <th></th>\n",
       "      <th>db</th>\n",
       "    </tr>\n",
       "  </thead>\n",
       "  <tbody>\n",
       "    <tr>\n",
       "      <th>hc</th>\n",
       "      <td>85</td>\n",
       "    </tr>\n",
       "    <tr>\n",
       "      <th>jh</th>\n",
       "      <td>85</td>\n",
       "    </tr>\n",
       "  </tbody>\n",
       "</table>\n",
       "</div>"
      ],
      "text/plain": [
       "    db\n",
       "hc  85\n",
       "jh  85"
      ]
     },
     "execution_count": 41,
     "metadata": {},
     "output_type": "execute_result"
    }
   ],
   "source": [
    "df_stud[['db']]\n",
    "#데이터 프레임으로 출력하고자 하면 [[]]"
   ]
  },
  {
   "cell_type": "code",
   "execution_count": 42,
   "id": "34fb4f8e",
   "metadata": {
    "ExecuteTime": {
     "end_time": "2022-12-09T06:21:38.466952Z",
     "start_time": "2022-12-09T06:21:38.452960Z"
    }
   },
   "outputs": [
    {
     "data": {
      "text/html": [
       "<div>\n",
       "<style scoped>\n",
       "    .dataframe tbody tr th:only-of-type {\n",
       "        vertical-align: middle;\n",
       "    }\n",
       "\n",
       "    .dataframe tbody tr th {\n",
       "        vertical-align: top;\n",
       "    }\n",
       "\n",
       "    .dataframe thead th {\n",
       "        text-align: right;\n",
       "    }\n",
       "</style>\n",
       "<table border=\"1\" class=\"dataframe\">\n",
       "  <thead>\n",
       "    <tr style=\"text-align: right;\">\n",
       "      <th></th>\n",
       "      <th>java</th>\n",
       "      <th>python</th>\n",
       "    </tr>\n",
       "  </thead>\n",
       "  <tbody>\n",
       "    <tr>\n",
       "      <th>hc</th>\n",
       "      <td>95</td>\n",
       "      <td>100</td>\n",
       "    </tr>\n",
       "    <tr>\n",
       "      <th>jh</th>\n",
       "      <td>85</td>\n",
       "      <td>95</td>\n",
       "    </tr>\n",
       "  </tbody>\n",
       "</table>\n",
       "</div>"
      ],
      "text/plain": [
       "    java  python\n",
       "hc    95     100\n",
       "jh    85      95"
      ]
     },
     "execution_count": 42,
     "metadata": {},
     "output_type": "execute_result"
    }
   ],
   "source": [
    "# 여러개의 컬럼 데이터 접근\n",
    "# java, python 데이터접근\n",
    "# [] 행데이터 [[]] 열데이터\n",
    "df_stud[['java','python']]"
   ]
  },
  {
   "cell_type": "code",
   "execution_count": 43,
   "id": "9c3a3f47",
   "metadata": {
    "ExecuteTime": {
     "end_time": "2022-12-09T06:21:38.481912Z",
     "start_time": "2022-12-09T06:21:38.467948Z"
    }
   },
   "outputs": [
    {
     "data": {
      "text/html": [
       "<div>\n",
       "<style scoped>\n",
       "    .dataframe tbody tr th:only-of-type {\n",
       "        vertical-align: middle;\n",
       "    }\n",
       "\n",
       "    .dataframe tbody tr th {\n",
       "        vertical-align: top;\n",
       "    }\n",
       "\n",
       "    .dataframe thead th {\n",
       "        text-align: right;\n",
       "    }\n",
       "</style>\n",
       "<table border=\"1\" class=\"dataframe\">\n",
       "  <thead>\n",
       "    <tr style=\"text-align: right;\">\n",
       "      <th></th>\n",
       "      <th>java</th>\n",
       "      <th>python</th>\n",
       "      <th>db</th>\n",
       "      <th>html/css</th>\n",
       "    </tr>\n",
       "  </thead>\n",
       "  <tbody>\n",
       "    <tr>\n",
       "      <th>hc</th>\n",
       "      <td>95</td>\n",
       "      <td>100</td>\n",
       "      <td>85</td>\n",
       "      <td>70</td>\n",
       "    </tr>\n",
       "    <tr>\n",
       "      <th>jh</th>\n",
       "      <td>85</td>\n",
       "      <td>95</td>\n",
       "      <td>85</td>\n",
       "      <td>75</td>\n",
       "    </tr>\n",
       "  </tbody>\n",
       "</table>\n",
       "</div>"
      ],
      "text/plain": [
       "    java  python  db  html/css\n",
       "hc    95     100  85        70\n",
       "jh    85      95  85        75"
      ]
     },
     "execution_count": 43,
     "metadata": {},
     "output_type": "execute_result"
    }
   ],
   "source": [
    "# python 에서 html/css까지 접근\n",
    "# df_stud[컬럼명]\n",
    "# df_stud[값:값] ==> 행으로 접근\n",
    "df_stud['python':'html/css']\n",
    "df_stud['hc':'jh']# 행인덱싱"
   ]
  },
  {
   "cell_type": "markdown",
   "id": "9d1d0e37",
   "metadata": {},
   "source": [
    "#### ★★loc,iloc 인덱서\n",
    "- loc 인덱서\n",
    "    - 문자열 기반 데이터 접근\n",
    "    - 행접근 : df.loc[행], df.loc[시작행:끝행], df.loc[[행1,행2,행3]]\n",
    "    - 열접근 : df.loc[:,열], df.loc[:, 시작열:끝열], df.loc[:,[열1,열2,열3]]\n",
    "- iloc 인덱서\n",
    "    - numpy array에서 제공하는 인덱스번호 기반으로 데이터 접근(눈에 보이지 않는 인덱스에도 접근)\n",
    "    - 행접근 : df.iloc[행인덱스] df.iloc[시작행인덱스:끝행인덱스],df.iloc[[행1인덱스,행2인덱스,행3인덱스]]\n",
    "    - 열접근 : df.iloc[:,열인덱스], df.iloc[:,시작열인덱스:끝열인덱스],df.iloc[:,[열1인덱스,열2인덱스]]\n",
    "- 배열.loc[행,열], 배열iloc[행,열]\n",
    "- loc :location 위치\n",
    "- iloc : int location 인덱스 번호 위치"
   ]
  },
  {
   "cell_type": "code",
   "execution_count": 44,
   "id": "6897e584",
   "metadata": {
    "ExecuteTime": {
     "end_time": "2022-12-09T06:21:38.496871Z",
     "start_time": "2022-12-09T06:21:38.483878Z"
    }
   },
   "outputs": [
    {
     "data": {
      "text/html": [
       "<div>\n",
       "<style scoped>\n",
       "    .dataframe tbody tr th:only-of-type {\n",
       "        vertical-align: middle;\n",
       "    }\n",
       "\n",
       "    .dataframe tbody tr th {\n",
       "        vertical-align: top;\n",
       "    }\n",
       "\n",
       "    .dataframe thead th {\n",
       "        text-align: right;\n",
       "    }\n",
       "</style>\n",
       "<table border=\"1\" class=\"dataframe\">\n",
       "  <thead>\n",
       "    <tr style=\"text-align: right;\">\n",
       "      <th></th>\n",
       "      <th>java</th>\n",
       "      <th>python</th>\n",
       "      <th>db</th>\n",
       "      <th>html/css</th>\n",
       "    </tr>\n",
       "  </thead>\n",
       "  <tbody>\n",
       "    <tr>\n",
       "      <th>hc</th>\n",
       "      <td>95</td>\n",
       "      <td>100</td>\n",
       "      <td>85</td>\n",
       "      <td>70</td>\n",
       "    </tr>\n",
       "    <tr>\n",
       "      <th>jh</th>\n",
       "      <td>85</td>\n",
       "      <td>95</td>\n",
       "      <td>85</td>\n",
       "      <td>75</td>\n",
       "    </tr>\n",
       "  </tbody>\n",
       "</table>\n",
       "</div>"
      ],
      "text/plain": [
       "    java  python  db  html/css\n",
       "hc    95     100  85        70\n",
       "jh    85      95  85        75"
      ]
     },
     "execution_count": 44,
     "metadata": {},
     "output_type": "execute_result"
    }
   ],
   "source": [
    "df_stud"
   ]
  },
  {
   "cell_type": "code",
   "execution_count": 45,
   "id": "d2d35242",
   "metadata": {
    "ExecuteTime": {
     "end_time": "2022-12-09T06:21:38.511801Z",
     "start_time": "2022-12-09T06:21:38.497839Z"
    }
   },
   "outputs": [
    {
     "data": {
      "text/plain": [
       "hc    85\n",
       "jh    85\n",
       "Name: db, dtype: int64"
      ]
     },
     "metadata": {},
     "output_type": "display_data"
    },
    {
     "data": {
      "text/plain": [
       "hc    85\n",
       "jh    85\n",
       "Name: db, dtype: int64"
      ]
     },
     "metadata": {},
     "output_type": "display_data"
    }
   ],
   "source": [
    "# db컬럼에 접근\n",
    "display(df_stud.loc[:,'db'])\n",
    "display(df_stud.iloc[:,2])"
   ]
  },
  {
   "cell_type": "code",
   "execution_count": 46,
   "id": "7af55f6f",
   "metadata": {
    "ExecuteTime": {
     "end_time": "2022-12-09T06:21:38.526761Z",
     "start_time": "2022-12-09T06:21:38.512798Z"
    }
   },
   "outputs": [
    {
     "data": {
      "text/plain": [
       "hc    95\n",
       "jh    85\n",
       "Name: java, dtype: int64"
      ]
     },
     "metadata": {},
     "output_type": "display_data"
    },
    {
     "data": {
      "text/plain": [
       "hc    95\n",
       "jh    85\n",
       "Name: java, dtype: int64"
      ]
     },
     "metadata": {},
     "output_type": "display_data"
    }
   ],
   "source": [
    "# java 과목에 접근해보기\n",
    "display(df_stud.loc[:,'java'])\n",
    "display(df_stud.iloc[:,0])"
   ]
  },
  {
   "cell_type": "code",
   "execution_count": 47,
   "id": "12bd7128",
   "metadata": {
    "ExecuteTime": {
     "end_time": "2022-12-09T06:21:38.541721Z",
     "start_time": "2022-12-09T06:21:38.527759Z"
    }
   },
   "outputs": [
    {
     "data": {
      "text/html": [
       "<div>\n",
       "<style scoped>\n",
       "    .dataframe tbody tr th:only-of-type {\n",
       "        vertical-align: middle;\n",
       "    }\n",
       "\n",
       "    .dataframe tbody tr th {\n",
       "        vertical-align: top;\n",
       "    }\n",
       "\n",
       "    .dataframe thead th {\n",
       "        text-align: right;\n",
       "    }\n",
       "</style>\n",
       "<table border=\"1\" class=\"dataframe\">\n",
       "  <thead>\n",
       "    <tr style=\"text-align: right;\">\n",
       "      <th></th>\n",
       "      <th>python</th>\n",
       "      <th>db</th>\n",
       "    </tr>\n",
       "  </thead>\n",
       "  <tbody>\n",
       "    <tr>\n",
       "      <th>hc</th>\n",
       "      <td>100</td>\n",
       "      <td>85</td>\n",
       "    </tr>\n",
       "    <tr>\n",
       "      <th>jh</th>\n",
       "      <td>95</td>\n",
       "      <td>85</td>\n",
       "    </tr>\n",
       "  </tbody>\n",
       "</table>\n",
       "</div>"
      ],
      "text/plain": [
       "    python  db\n",
       "hc     100  85\n",
       "jh      95  85"
      ]
     },
     "metadata": {},
     "output_type": "display_data"
    },
    {
     "data": {
      "text/html": [
       "<div>\n",
       "<style scoped>\n",
       "    .dataframe tbody tr th:only-of-type {\n",
       "        vertical-align: middle;\n",
       "    }\n",
       "\n",
       "    .dataframe tbody tr th {\n",
       "        vertical-align: top;\n",
       "    }\n",
       "\n",
       "    .dataframe thead th {\n",
       "        text-align: right;\n",
       "    }\n",
       "</style>\n",
       "<table border=\"1\" class=\"dataframe\">\n",
       "  <thead>\n",
       "    <tr style=\"text-align: right;\">\n",
       "      <th></th>\n",
       "      <th>python</th>\n",
       "      <th>db</th>\n",
       "    </tr>\n",
       "  </thead>\n",
       "  <tbody>\n",
       "    <tr>\n",
       "      <th>hc</th>\n",
       "      <td>100</td>\n",
       "      <td>85</td>\n",
       "    </tr>\n",
       "    <tr>\n",
       "      <th>jh</th>\n",
       "      <td>95</td>\n",
       "      <td>85</td>\n",
       "    </tr>\n",
       "  </tbody>\n",
       "</table>\n",
       "</div>"
      ],
      "text/plain": [
       "    python  db\n",
       "hc     100  85\n",
       "jh      95  85"
      ]
     },
     "metadata": {},
     "output_type": "display_data"
    },
    {
     "data": {
      "text/html": [
       "<div>\n",
       "<style scoped>\n",
       "    .dataframe tbody tr th:only-of-type {\n",
       "        vertical-align: middle;\n",
       "    }\n",
       "\n",
       "    .dataframe tbody tr th {\n",
       "        vertical-align: top;\n",
       "    }\n",
       "\n",
       "    .dataframe thead th {\n",
       "        text-align: right;\n",
       "    }\n",
       "</style>\n",
       "<table border=\"1\" class=\"dataframe\">\n",
       "  <thead>\n",
       "    <tr style=\"text-align: right;\">\n",
       "      <th></th>\n",
       "      <th>python</th>\n",
       "      <th>db</th>\n",
       "    </tr>\n",
       "  </thead>\n",
       "  <tbody>\n",
       "    <tr>\n",
       "      <th>hc</th>\n",
       "      <td>100</td>\n",
       "      <td>85</td>\n",
       "    </tr>\n",
       "    <tr>\n",
       "      <th>jh</th>\n",
       "      <td>95</td>\n",
       "      <td>85</td>\n",
       "    </tr>\n",
       "  </tbody>\n",
       "</table>\n",
       "</div>"
      ],
      "text/plain": [
       "    python  db\n",
       "hc     100  85\n",
       "jh      95  85"
      ]
     },
     "execution_count": 47,
     "metadata": {},
     "output_type": "execute_result"
    }
   ],
   "source": [
    "# python에서 db 까지 과목 성적 접근하기\n",
    "display(df_stud.loc[:,'python':'db'])\n",
    "display(df_stud.iloc[:,1:3])\n",
    "df_stud[['python','db']]# 컬럼"
   ]
  },
  {
   "cell_type": "code",
   "execution_count": 48,
   "id": "ba5210f8",
   "metadata": {
    "ExecuteTime": {
     "end_time": "2022-12-09T06:21:38.556682Z",
     "start_time": "2022-12-09T06:21:38.542719Z"
    }
   },
   "outputs": [
    {
     "data": {
      "text/plain": [
       "java         95\n",
       "python      100\n",
       "db           85\n",
       "html/css     70\n",
       "Name: hc, dtype: int64"
      ]
     },
     "execution_count": 48,
     "metadata": {},
     "output_type": "execute_result"
    }
   ],
   "source": [
    "# 행 접근\n",
    "# 효창씨의 데이터 접근\n",
    "# loc\n",
    "df_stud.loc['hc']\n",
    "# iloc\n",
    "df_stud.iloc[0]"
   ]
  },
  {
   "cell_type": "code",
   "execution_count": 49,
   "id": "8bd574ca",
   "metadata": {
    "ExecuteTime": {
     "end_time": "2022-12-09T06:21:38.571641Z",
     "start_time": "2022-12-09T06:21:38.557679Z"
    }
   },
   "outputs": [
    {
     "data": {
      "text/html": [
       "<div>\n",
       "<style scoped>\n",
       "    .dataframe tbody tr th:only-of-type {\n",
       "        vertical-align: middle;\n",
       "    }\n",
       "\n",
       "    .dataframe tbody tr th {\n",
       "        vertical-align: top;\n",
       "    }\n",
       "\n",
       "    .dataframe thead th {\n",
       "        text-align: right;\n",
       "    }\n",
       "</style>\n",
       "<table border=\"1\" class=\"dataframe\">\n",
       "  <thead>\n",
       "    <tr style=\"text-align: right;\">\n",
       "      <th></th>\n",
       "      <th>java</th>\n",
       "      <th>python</th>\n",
       "      <th>db</th>\n",
       "      <th>html/css</th>\n",
       "    </tr>\n",
       "  </thead>\n",
       "  <tbody>\n",
       "    <tr>\n",
       "      <th>jh</th>\n",
       "      <td>85</td>\n",
       "      <td>95</td>\n",
       "      <td>85</td>\n",
       "      <td>75</td>\n",
       "    </tr>\n",
       "    <tr>\n",
       "      <th>hc</th>\n",
       "      <td>95</td>\n",
       "      <td>100</td>\n",
       "      <td>85</td>\n",
       "      <td>70</td>\n",
       "    </tr>\n",
       "  </tbody>\n",
       "</table>\n",
       "</div>"
      ],
      "text/plain": [
       "    java  python  db  html/css\n",
       "jh    85      95  85        75\n",
       "hc    95     100  85        70"
      ]
     },
     "execution_count": 49,
     "metadata": {},
     "output_type": "execute_result"
    }
   ],
   "source": [
    "# 데이터 프레임을 종현 효창 순서로 보이게 출력해보기\n",
    "df_stud.loc[['jh','hc']]\n",
    "df_stud.iloc[[1,0]]"
   ]
  },
  {
   "cell_type": "markdown",
   "id": "99518124",
   "metadata": {},
   "source": [
    "#### 데이터프레임 블리언 인덱싱"
   ]
  },
  {
   "cell_type": "code",
   "execution_count": 50,
   "id": "9a6ebfbd",
   "metadata": {
    "ExecuteTime": {
     "end_time": "2022-12-09T06:21:38.586601Z",
     "start_time": "2022-12-09T06:21:38.572639Z"
    }
   },
   "outputs": [
    {
     "data": {
      "text/plain": [
       "2"
      ]
     },
     "execution_count": 50,
     "metadata": {},
     "output_type": "execute_result"
    }
   ],
   "source": [
    "# python 의 성적이 95점 이상인 사람의 수는 몇 명일까?\n",
    "df_stud[df_stud['python'] >= 95].shape[0] # 행의 갯수 배열의 크기로 확인"
   ]
  },
  {
   "cell_type": "code",
   "execution_count": 51,
   "id": "71996403",
   "metadata": {
    "ExecuteTime": {
     "end_time": "2022-12-09T06:21:38.601561Z",
     "start_time": "2022-12-09T06:21:38.587599Z"
    }
   },
   "outputs": [
    {
     "data": {
      "text/plain": [
       "2"
      ]
     },
     "execution_count": 51,
     "metadata": {},
     "output_type": "execute_result"
    }
   ],
   "source": [
    "len(df_stud[df_stud['python'] >= 95].index) # 인덱스로 접근해서 길이함수 이용"
   ]
  },
  {
   "cell_type": "code",
   "execution_count": 52,
   "id": "67ccaa1d",
   "metadata": {
    "ExecuteTime": {
     "end_time": "2022-12-09T06:21:38.616521Z",
     "start_time": "2022-12-09T06:21:38.602559Z"
    }
   },
   "outputs": [
    {
     "data": {
      "text/plain": [
       "2"
      ]
     },
     "execution_count": 52,
     "metadata": {},
     "output_type": "execute_result"
    }
   ],
   "source": [
    "df_stud[df_stud['python'] >= 95].index.size # 인덱스의 요소 갯수로 확인"
   ]
  },
  {
   "cell_type": "code",
   "execution_count": 53,
   "id": "7a6e6da0",
   "metadata": {
    "ExecuteTime": {
     "end_time": "2022-12-09T06:21:38.631482Z",
     "start_time": "2022-12-09T06:21:38.617519Z"
    }
   },
   "outputs": [
    {
     "data": {
      "text/plain": [
       "hc    100\n",
       "jh     95\n",
       "Name: python, dtype: int64"
      ]
     },
     "execution_count": 53,
     "metadata": {},
     "output_type": "execute_result"
    }
   ],
   "source": [
    "df_stud.iloc[:,1]"
   ]
  },
  {
   "cell_type": "code",
   "execution_count": 54,
   "id": "6dbb1596",
   "metadata": {
    "ExecuteTime": {
     "end_time": "2022-12-09T06:21:38.646441Z",
     "start_time": "2022-12-09T06:21:38.633477Z"
    }
   },
   "outputs": [
    {
     "data": {
      "text/plain": [
       "hc    70\n",
       "jh    75\n",
       "Name: html/css, dtype: int64"
      ]
     },
     "execution_count": 54,
     "metadata": {},
     "output_type": "execute_result"
    }
   ],
   "source": [
    "# java 85점 이상인 사람의 html/css 점수 철력해보기\n",
    "df_stud[df_stud.loc[:,'java'] >=85]['html/css']\n",
    "df_stud[df_stud.loc[:,'java'] >=85].loc[:,'html/css']\n",
    "df_stud[df_stud.loc[:,'java'] >=85].iloc[:,-1]\n",
    "df_stud.loc[df_stud.loc[:,'java'] >=85,'html/css']"
   ]
  },
  {
   "cell_type": "markdown",
   "id": "fa06b5a1",
   "metadata": {},
   "source": [
    "### 시리즈간 연산"
   ]
  },
  {
   "cell_type": "code",
   "execution_count": 55,
   "id": "92c9382b",
   "metadata": {
    "ExecuteTime": {
     "end_time": "2022-12-09T06:21:38.661401Z",
     "start_time": "2022-12-09T06:21:38.647439Z"
    }
   },
   "outputs": [
    {
     "data": {
      "text/plain": [
       "도시\n",
       "서울    9602000\n",
       "부산    3500000\n",
       "광주    1488000\n",
       "대구    2419000\n",
       "전주    1400000\n",
       "인천    2951000\n",
       "Name: 2020 인구, dtype: int64"
      ]
     },
     "execution_count": 55,
     "metadata": {},
     "output_type": "execute_result"
    }
   ],
   "source": [
    "population"
   ]
  },
  {
   "cell_type": "code",
   "execution_count": 56,
   "id": "5b462290",
   "metadata": {
    "ExecuteTime": {
     "end_time": "2022-12-09T06:21:38.676362Z",
     "start_time": "2022-12-09T06:21:38.662400Z"
    }
   },
   "outputs": [
    {
     "data": {
      "text/plain": [
       "지역\n",
       "서울     605.2\n",
       "부산     770.1\n",
       "광주     501.1\n",
       "대구     883.5\n",
       "대전     883.5\n",
       "인천    1065.2\n",
       "Name: 면적(㎦), dtype: float64"
      ]
     },
     "execution_count": 56,
     "metadata": {},
     "output_type": "execute_result"
    }
   ],
   "source": [
    "area"
   ]
  },
  {
   "cell_type": "code",
   "execution_count": 63,
   "id": "f540d642",
   "metadata": {
    "ExecuteTime": {
     "end_time": "2022-12-09T06:23:32.029855Z",
     "start_time": "2022-12-09T06:23:32.010924Z"
    }
   },
   "outputs": [
    {
     "data": {
      "text/plain": [
       "광주    7.456368e+08\n",
       "대구    2.137186e+09\n",
       "대전    2.137186e+09\n",
       "부산    2.695350e+09\n",
       "서울    5.811130e+09\n",
       "인천    3.143405e+09\n",
       "전주             NaN\n",
       "dtype: float64"
      ]
     },
     "execution_count": 63,
     "metadata": {},
     "output_type": "execute_result"
    }
   ],
   "source": [
    "# 연산 수행하기\n",
    "population + area\n",
    "population - area\n",
    "population * area"
   ]
  },
  {
   "cell_type": "code",
   "execution_count": 77,
   "id": "c638a3eb",
   "metadata": {
    "ExecuteTime": {
     "end_time": "2022-12-09T06:25:51.472774Z",
     "start_time": "2022-12-09T06:25:51.459809Z"
    }
   },
   "outputs": [
    {
     "data": {
      "text/html": [
       "<div>\n",
       "<style scoped>\n",
       "    .dataframe tbody tr th:only-of-type {\n",
       "        vertical-align: middle;\n",
       "    }\n",
       "\n",
       "    .dataframe tbody tr th {\n",
       "        vertical-align: top;\n",
       "    }\n",
       "\n",
       "    .dataframe thead th {\n",
       "        text-align: right;\n",
       "    }\n",
       "</style>\n",
       "<table border=\"1\" class=\"dataframe\">\n",
       "  <thead>\n",
       "    <tr style=\"text-align: right;\">\n",
       "      <th></th>\n",
       "      <th>2020 인구</th>\n",
       "      <th>면적(㎦)</th>\n",
       "    </tr>\n",
       "  </thead>\n",
       "  <tbody>\n",
       "    <tr>\n",
       "      <th>서울</th>\n",
       "      <td>9602000</td>\n",
       "      <td>605.2</td>\n",
       "    </tr>\n",
       "    <tr>\n",
       "      <th>부산</th>\n",
       "      <td>3500000</td>\n",
       "      <td>770.1</td>\n",
       "    </tr>\n",
       "    <tr>\n",
       "      <th>광주</th>\n",
       "      <td>1488000</td>\n",
       "      <td>501.1</td>\n",
       "    </tr>\n",
       "    <tr>\n",
       "      <th>대구</th>\n",
       "      <td>2419000</td>\n",
       "      <td>883.5</td>\n",
       "    </tr>\n",
       "    <tr>\n",
       "      <th>전주</th>\n",
       "      <td>2419000</td>\n",
       "      <td>883.5</td>\n",
       "    </tr>\n",
       "    <tr>\n",
       "      <th>인천</th>\n",
       "      <td>2951000</td>\n",
       "      <td>1065.2</td>\n",
       "    </tr>\n",
       "    <tr>\n",
       "      <th>대전</th>\n",
       "      <td>2419000</td>\n",
       "      <td>883.5</td>\n",
       "    </tr>\n",
       "  </tbody>\n",
       "</table>\n",
       "</div>"
      ],
      "text/plain": [
       "    2020 인구   면적(㎦)\n",
       "서울  9602000   605.2\n",
       "부산  3500000   770.1\n",
       "광주  1488000   501.1\n",
       "대구  2419000   883.5\n",
       "전주  2419000   883.5\n",
       "인천  2951000  1065.2\n",
       "대전  2419000   883.5"
      ]
     },
     "execution_count": 77,
     "metadata": {},
     "output_type": "execute_result"
    }
   ],
   "source": [
    "df2"
   ]
  },
  {
   "cell_type": "code",
   "execution_count": 80,
   "id": "32c7ab9c",
   "metadata": {
    "ExecuteTime": {
     "end_time": "2022-12-09T06:28:56.916294Z",
     "start_time": "2022-12-09T06:28:56.900366Z"
    }
   },
   "outputs": [],
   "source": [
    "# 인구밀도 = 인구수 / 면적\n",
    "# df2 데이터 프레임에 컬럼 추가하기\n",
    "dense = population / area\n",
    "df2['인구밀도'] = dense"
   ]
  },
  {
   "cell_type": "code",
   "execution_count": 81,
   "id": "0545a837",
   "metadata": {
    "ExecuteTime": {
     "end_time": "2022-12-09T06:29:00.998953Z",
     "start_time": "2022-12-09T06:29:00.980509Z"
    }
   },
   "outputs": [
    {
     "data": {
      "text/html": [
       "<div>\n",
       "<style scoped>\n",
       "    .dataframe tbody tr th:only-of-type {\n",
       "        vertical-align: middle;\n",
       "    }\n",
       "\n",
       "    .dataframe tbody tr th {\n",
       "        vertical-align: top;\n",
       "    }\n",
       "\n",
       "    .dataframe thead th {\n",
       "        text-align: right;\n",
       "    }\n",
       "</style>\n",
       "<table border=\"1\" class=\"dataframe\">\n",
       "  <thead>\n",
       "    <tr style=\"text-align: right;\">\n",
       "      <th></th>\n",
       "      <th>2020 인구</th>\n",
       "      <th>면적(㎦)</th>\n",
       "      <th>인구밀도</th>\n",
       "    </tr>\n",
       "  </thead>\n",
       "  <tbody>\n",
       "    <tr>\n",
       "      <th>서울</th>\n",
       "      <td>9602000</td>\n",
       "      <td>605.2</td>\n",
       "      <td>15865.829478</td>\n",
       "    </tr>\n",
       "    <tr>\n",
       "      <th>부산</th>\n",
       "      <td>3500000</td>\n",
       "      <td>770.1</td>\n",
       "      <td>4544.864303</td>\n",
       "    </tr>\n",
       "    <tr>\n",
       "      <th>광주</th>\n",
       "      <td>1488000</td>\n",
       "      <td>501.1</td>\n",
       "      <td>2969.467172</td>\n",
       "    </tr>\n",
       "    <tr>\n",
       "      <th>대구</th>\n",
       "      <td>2419000</td>\n",
       "      <td>883.5</td>\n",
       "      <td>2737.973967</td>\n",
       "    </tr>\n",
       "    <tr>\n",
       "      <th>전주</th>\n",
       "      <td>2419000</td>\n",
       "      <td>883.5</td>\n",
       "      <td>2737.973967</td>\n",
       "    </tr>\n",
       "    <tr>\n",
       "      <th>인천</th>\n",
       "      <td>2951000</td>\n",
       "      <td>1065.2</td>\n",
       "      <td>2770.371761</td>\n",
       "    </tr>\n",
       "    <tr>\n",
       "      <th>대전</th>\n",
       "      <td>2419000</td>\n",
       "      <td>883.5</td>\n",
       "      <td>2737.973967</td>\n",
       "    </tr>\n",
       "  </tbody>\n",
       "</table>\n",
       "</div>"
      ],
      "text/plain": [
       "    2020 인구   면적(㎦)          인구밀도\n",
       "서울  9602000   605.2  15865.829478\n",
       "부산  3500000   770.1   4544.864303\n",
       "광주  1488000   501.1   2969.467172\n",
       "대구  2419000   883.5   2737.973967\n",
       "전주  2419000   883.5   2737.973967\n",
       "인천  2951000  1065.2   2770.371761\n",
       "대전  2419000   883.5   2737.973967"
      ]
     },
     "execution_count": 81,
     "metadata": {},
     "output_type": "execute_result"
    }
   ],
   "source": [
    "df2"
   ]
  },
  {
   "cell_type": "markdown",
   "id": "95cea4f4",
   "metadata": {
    "ExecuteTime": {
     "end_time": "2022-12-09T06:25:19.635619Z",
     "start_time": "2022-12-09T06:25:19.621686Z"
    }
   },
   "source": [
    "### 유용한 함수"
   ]
  },
  {
   "cell_type": "markdown",
   "id": "4d31740b",
   "metadata": {},
   "source": [
    "#### 데이터 정렬함수\n",
    "- sort_value : 데이터 값을 기준으로 정렬(기본값 : 오름차순)\n",
    "- sort_index : 인덱스 값을 기준으로 정렬"
   ]
  },
  {
   "cell_type": "code",
   "execution_count": 86,
   "id": "c3ea36cf",
   "metadata": {
    "ExecuteTime": {
     "end_time": "2022-12-09T06:34:05.815150Z",
     "start_time": "2022-12-09T06:34:05.796196Z"
    }
   },
   "outputs": [
    {
     "data": {
      "text/plain": [
       "서울    15865.829478\n",
       "부산     4544.864303\n",
       "광주     2969.467172\n",
       "인천     2770.371761\n",
       "대구     2737.973967\n",
       "전주     2737.973967\n",
       "대전     2737.973967\n",
       "Name: 인구밀도, dtype: float64"
      ]
     },
     "execution_count": 86,
     "metadata": {},
     "output_type": "execute_result"
    }
   ],
   "source": [
    "#ascending=True,or False로 오름차순 내림차순\n",
    "df2['인구밀도'].sort_values(ascending=False) \n"
   ]
  },
  {
   "cell_type": "code",
   "execution_count": 88,
   "id": "4ad8b4bd",
   "metadata": {
    "ExecuteTime": {
     "end_time": "2022-12-09T06:37:15.633134Z",
     "start_time": "2022-12-09T06:37:15.626181Z"
    }
   },
   "outputs": [
    {
     "data": {
      "text/plain": [
       "광주     2969.467172\n",
       "대구     2737.973967\n",
       "대전     2737.973967\n",
       "부산     4544.864303\n",
       "서울    15865.829478\n",
       "인천     2770.371761\n",
       "전주     2737.973967\n",
       "Name: 인구밀도, dtype: float64"
      ]
     },
     "execution_count": 88,
     "metadata": {},
     "output_type": "execute_result"
    }
   ],
   "source": [
    "# 인덱스정렬\n",
    "# 인덱스 순서대로 정렬됨\n",
    "df2['인구밀도'].sort_index()"
   ]
  },
  {
   "cell_type": "code",
   "execution_count": 89,
   "id": "1615c3c6",
   "metadata": {
    "ExecuteTime": {
     "end_time": "2022-12-09T06:37:49.105936Z",
     "start_time": "2022-12-09T06:37:49.092001Z"
    }
   },
   "outputs": [
    {
     "data": {
      "text/plain": [
       "Index(['2020 인구', '면적(㎦)', '인구밀도'], dtype='object')"
      ]
     },
     "execution_count": 89,
     "metadata": {},
     "output_type": "execute_result"
    }
   ],
   "source": [
    "# 데이터의 컬럼명을 확인하는 키워드\n",
    "df2.columns"
   ]
  },
  {
   "cell_type": "code",
   "execution_count": 91,
   "id": "f56bcc7e",
   "metadata": {
    "ExecuteTime": {
     "end_time": "2022-12-09T06:41:05.557432Z",
     "start_time": "2022-12-09T06:41:05.545420Z"
    }
   },
   "outputs": [
    {
     "data": {
      "text/html": [
       "<div>\n",
       "<style scoped>\n",
       "    .dataframe tbody tr th:only-of-type {\n",
       "        vertical-align: middle;\n",
       "    }\n",
       "\n",
       "    .dataframe tbody tr th {\n",
       "        vertical-align: top;\n",
       "    }\n",
       "\n",
       "    .dataframe thead th {\n",
       "        text-align: right;\n",
       "    }\n",
       "</style>\n",
       "<table border=\"1\" class=\"dataframe\">\n",
       "  <thead>\n",
       "    <tr style=\"text-align: right;\">\n",
       "      <th></th>\n",
       "      <th>2020 인구</th>\n",
       "      <th>면적(㎦)</th>\n",
       "      <th>인구밀도</th>\n",
       "    </tr>\n",
       "  </thead>\n",
       "  <tbody>\n",
       "    <tr>\n",
       "      <th>서울</th>\n",
       "      <td>9602000</td>\n",
       "      <td>605.2</td>\n",
       "      <td>15865.829478</td>\n",
       "    </tr>\n",
       "    <tr>\n",
       "      <th>부산</th>\n",
       "      <td>3500000</td>\n",
       "      <td>770.1</td>\n",
       "      <td>4544.864303</td>\n",
       "    </tr>\n",
       "    <tr>\n",
       "      <th>광주</th>\n",
       "      <td>1488000</td>\n",
       "      <td>501.1</td>\n",
       "      <td>2969.467172</td>\n",
       "    </tr>\n",
       "    <tr>\n",
       "      <th>대구</th>\n",
       "      <td>2419000</td>\n",
       "      <td>883.5</td>\n",
       "      <td>2737.973967</td>\n",
       "    </tr>\n",
       "    <tr>\n",
       "      <th>전주</th>\n",
       "      <td>2419000</td>\n",
       "      <td>883.5</td>\n",
       "      <td>2737.973967</td>\n",
       "    </tr>\n",
       "    <tr>\n",
       "      <th>인천</th>\n",
       "      <td>2951000</td>\n",
       "      <td>1065.2</td>\n",
       "      <td>2770.371761</td>\n",
       "    </tr>\n",
       "    <tr>\n",
       "      <th>대전</th>\n",
       "      <td>2419000</td>\n",
       "      <td>883.5</td>\n",
       "      <td>2737.973967</td>\n",
       "    </tr>\n",
       "  </tbody>\n",
       "</table>\n",
       "</div>"
      ],
      "text/plain": [
       "    2020 인구   면적(㎦)          인구밀도\n",
       "서울  9602000   605.2  15865.829478\n",
       "부산  3500000   770.1   4544.864303\n",
       "광주  1488000   501.1   2969.467172\n",
       "대구  2419000   883.5   2737.973967\n",
       "전주  2419000   883.5   2737.973967\n",
       "인천  2951000  1065.2   2770.371761\n",
       "대전  2419000   883.5   2737.973967"
      ]
     },
     "execution_count": 91,
     "metadata": {},
     "output_type": "execute_result"
    }
   ],
   "source": [
    "df2"
   ]
  },
  {
   "cell_type": "code",
   "execution_count": 92,
   "id": "6bcb5c79",
   "metadata": {
    "ExecuteTime": {
     "end_time": "2022-12-09T06:45:27.187904Z",
     "start_time": "2022-12-09T06:45:27.171975Z"
    }
   },
   "outputs": [
    {
     "data": {
      "text/html": [
       "<div>\n",
       "<style scoped>\n",
       "    .dataframe tbody tr th:only-of-type {\n",
       "        vertical-align: middle;\n",
       "    }\n",
       "\n",
       "    .dataframe tbody tr th {\n",
       "        vertical-align: top;\n",
       "    }\n",
       "\n",
       "    .dataframe thead th {\n",
       "        text-align: right;\n",
       "    }\n",
       "</style>\n",
       "<table border=\"1\" class=\"dataframe\">\n",
       "  <thead>\n",
       "    <tr style=\"text-align: right;\">\n",
       "      <th></th>\n",
       "      <th>2020 인구</th>\n",
       "      <th>면적(㎦)</th>\n",
       "      <th>인구밀도</th>\n",
       "    </tr>\n",
       "  </thead>\n",
       "  <tbody>\n",
       "    <tr>\n",
       "      <th>인천</th>\n",
       "      <td>2951000</td>\n",
       "      <td>1065.2</td>\n",
       "      <td>2770.371761</td>\n",
       "    </tr>\n",
       "    <tr>\n",
       "      <th>대구</th>\n",
       "      <td>2419000</td>\n",
       "      <td>883.5</td>\n",
       "      <td>2737.973967</td>\n",
       "    </tr>\n",
       "    <tr>\n",
       "      <th>전주</th>\n",
       "      <td>2419000</td>\n",
       "      <td>883.5</td>\n",
       "      <td>2737.973967</td>\n",
       "    </tr>\n",
       "    <tr>\n",
       "      <th>대전</th>\n",
       "      <td>2419000</td>\n",
       "      <td>883.5</td>\n",
       "      <td>2737.973967</td>\n",
       "    </tr>\n",
       "    <tr>\n",
       "      <th>부산</th>\n",
       "      <td>3500000</td>\n",
       "      <td>770.1</td>\n",
       "      <td>4544.864303</td>\n",
       "    </tr>\n",
       "    <tr>\n",
       "      <th>서울</th>\n",
       "      <td>9602000</td>\n",
       "      <td>605.2</td>\n",
       "      <td>15865.829478</td>\n",
       "    </tr>\n",
       "    <tr>\n",
       "      <th>광주</th>\n",
       "      <td>1488000</td>\n",
       "      <td>501.1</td>\n",
       "      <td>2969.467172</td>\n",
       "    </tr>\n",
       "  </tbody>\n",
       "</table>\n",
       "</div>"
      ],
      "text/plain": [
       "    2020 인구   면적(㎦)          인구밀도\n",
       "인천  2951000  1065.2   2770.371761\n",
       "대구  2419000   883.5   2737.973967\n",
       "전주  2419000   883.5   2737.973967\n",
       "대전  2419000   883.5   2737.973967\n",
       "부산  3500000   770.1   4544.864303\n",
       "서울  9602000   605.2  15865.829478\n",
       "광주  1488000   501.1   2969.467172"
      ]
     },
     "execution_count": 92,
     "metadata": {},
     "output_type": "execute_result"
    }
   ],
   "source": [
    "# 2차원 데이터 value 정렬\n",
    "df2.sort_values(by = ['면적(㎦)','2020 인구'],ascending=False)"
   ]
  },
  {
   "cell_type": "markdown",
   "id": "d9470d03",
   "metadata": {},
   "source": [
    "#### 카운팅하는 함수"
   ]
  },
  {
   "cell_type": "code",
   "execution_count": 93,
   "id": "e9802c78",
   "metadata": {
    "ExecuteTime": {
     "end_time": "2022-12-09T06:46:14.004382Z",
     "start_time": "2022-12-09T06:46:13.980223Z"
    }
   },
   "outputs": [
    {
     "data": {
      "text/plain": [
       "883.5     3\n",
       "605.2     1\n",
       "770.1     1\n",
       "501.1     1\n",
       "1065.2    1\n",
       "Name: 면적(㎦), dtype: int64"
      ]
     },
     "execution_count": 93,
     "metadata": {},
     "output_type": "execute_result"
    }
   ],
   "source": [
    "df2['면적(㎦)'].value_counts()"
   ]
  },
  {
   "cell_type": "code",
   "execution_count": 94,
   "id": "d55c5edf",
   "metadata": {
    "ExecuteTime": {
     "end_time": "2022-12-09T06:46:49.474305Z",
     "start_time": "2022-12-09T06:46:49.466327Z"
    }
   },
   "outputs": [
    {
     "data": {
      "text/plain": [
       "array([3, 1, 1, 1, 1], dtype=int64)"
      ]
     },
     "execution_count": 94,
     "metadata": {},
     "output_type": "execute_result"
    }
   ],
   "source": [
    "# 데이터에만 접근\n",
    "df2['면적(㎦)'].value_counts().values"
   ]
  },
  {
   "cell_type": "markdown",
   "id": "eaed11dc",
   "metadata": {},
   "source": [
    "#### 데이터 삭제하는 함수"
   ]
  },
  {
   "cell_type": "code",
   "execution_count": 97,
   "id": "cc42a626",
   "metadata": {
    "ExecuteTime": {
     "end_time": "2022-12-09T06:50:31.158157Z",
     "start_time": "2022-12-09T06:50:31.154191Z"
    }
   },
   "outputs": [],
   "source": [
    "# axis = 0 행방향 1 열방향\n",
    "df2.drop('인구밀도' , axis = 1, inplace = True) \n",
    "# inplace = True 는 기존데이터에 반영하겠다 없으면 그대로있음"
   ]
  },
  {
   "cell_type": "code",
   "execution_count": 98,
   "id": "fb0af4fe",
   "metadata": {
    "ExecuteTime": {
     "end_time": "2022-12-09T06:50:33.768256Z",
     "start_time": "2022-12-09T06:50:33.746313Z"
    }
   },
   "outputs": [
    {
     "data": {
      "text/html": [
       "<div>\n",
       "<style scoped>\n",
       "    .dataframe tbody tr th:only-of-type {\n",
       "        vertical-align: middle;\n",
       "    }\n",
       "\n",
       "    .dataframe tbody tr th {\n",
       "        vertical-align: top;\n",
       "    }\n",
       "\n",
       "    .dataframe thead th {\n",
       "        text-align: right;\n",
       "    }\n",
       "</style>\n",
       "<table border=\"1\" class=\"dataframe\">\n",
       "  <thead>\n",
       "    <tr style=\"text-align: right;\">\n",
       "      <th></th>\n",
       "      <th>2020 인구</th>\n",
       "      <th>면적(㎦)</th>\n",
       "    </tr>\n",
       "  </thead>\n",
       "  <tbody>\n",
       "    <tr>\n",
       "      <th>서울</th>\n",
       "      <td>9602000</td>\n",
       "      <td>605.2</td>\n",
       "    </tr>\n",
       "    <tr>\n",
       "      <th>부산</th>\n",
       "      <td>3500000</td>\n",
       "      <td>770.1</td>\n",
       "    </tr>\n",
       "    <tr>\n",
       "      <th>광주</th>\n",
       "      <td>1488000</td>\n",
       "      <td>501.1</td>\n",
       "    </tr>\n",
       "    <tr>\n",
       "      <th>대구</th>\n",
       "      <td>2419000</td>\n",
       "      <td>883.5</td>\n",
       "    </tr>\n",
       "    <tr>\n",
       "      <th>전주</th>\n",
       "      <td>2419000</td>\n",
       "      <td>883.5</td>\n",
       "    </tr>\n",
       "    <tr>\n",
       "      <th>인천</th>\n",
       "      <td>2951000</td>\n",
       "      <td>1065.2</td>\n",
       "    </tr>\n",
       "    <tr>\n",
       "      <th>대전</th>\n",
       "      <td>2419000</td>\n",
       "      <td>883.5</td>\n",
       "    </tr>\n",
       "  </tbody>\n",
       "</table>\n",
       "</div>"
      ],
      "text/plain": [
       "    2020 인구   면적(㎦)\n",
       "서울  9602000   605.2\n",
       "부산  3500000   770.1\n",
       "광주  1488000   501.1\n",
       "대구  2419000   883.5\n",
       "전주  2419000   883.5\n",
       "인천  2951000  1065.2\n",
       "대전  2419000   883.5"
      ]
     },
     "execution_count": 98,
     "metadata": {},
     "output_type": "execute_result"
    }
   ],
   "source": [
    "df2"
   ]
  },
  {
   "cell_type": "code",
   "execution_count": 101,
   "id": "13b16e61",
   "metadata": {
    "ExecuteTime": {
     "end_time": "2022-12-09T06:52:09.757228Z",
     "start_time": "2022-12-09T06:52:09.753266Z"
    }
   },
   "outputs": [],
   "source": [
    "# 서울 데이터 삭제해보기\n",
    "df2.drop('서울', inplace =True)"
   ]
  },
  {
   "cell_type": "code",
   "execution_count": 102,
   "id": "ba62d5aa",
   "metadata": {
    "ExecuteTime": {
     "end_time": "2022-12-09T06:52:12.495161Z",
     "start_time": "2022-12-09T06:52:12.474219Z"
    }
   },
   "outputs": [
    {
     "data": {
      "text/html": [
       "<div>\n",
       "<style scoped>\n",
       "    .dataframe tbody tr th:only-of-type {\n",
       "        vertical-align: middle;\n",
       "    }\n",
       "\n",
       "    .dataframe tbody tr th {\n",
       "        vertical-align: top;\n",
       "    }\n",
       "\n",
       "    .dataframe thead th {\n",
       "        text-align: right;\n",
       "    }\n",
       "</style>\n",
       "<table border=\"1\" class=\"dataframe\">\n",
       "  <thead>\n",
       "    <tr style=\"text-align: right;\">\n",
       "      <th></th>\n",
       "      <th>2020 인구</th>\n",
       "      <th>면적(㎦)</th>\n",
       "    </tr>\n",
       "  </thead>\n",
       "  <tbody>\n",
       "    <tr>\n",
       "      <th>부산</th>\n",
       "      <td>3500000</td>\n",
       "      <td>770.1</td>\n",
       "    </tr>\n",
       "    <tr>\n",
       "      <th>광주</th>\n",
       "      <td>1488000</td>\n",
       "      <td>501.1</td>\n",
       "    </tr>\n",
       "    <tr>\n",
       "      <th>대구</th>\n",
       "      <td>2419000</td>\n",
       "      <td>883.5</td>\n",
       "    </tr>\n",
       "    <tr>\n",
       "      <th>전주</th>\n",
       "      <td>2419000</td>\n",
       "      <td>883.5</td>\n",
       "    </tr>\n",
       "    <tr>\n",
       "      <th>인천</th>\n",
       "      <td>2951000</td>\n",
       "      <td>1065.2</td>\n",
       "    </tr>\n",
       "    <tr>\n",
       "      <th>대전</th>\n",
       "      <td>2419000</td>\n",
       "      <td>883.5</td>\n",
       "    </tr>\n",
       "  </tbody>\n",
       "</table>\n",
       "</div>"
      ],
      "text/plain": [
       "    2020 인구   면적(㎦)\n",
       "부산  3500000   770.1\n",
       "광주  1488000   501.1\n",
       "대구  2419000   883.5\n",
       "전주  2419000   883.5\n",
       "인천  2951000  1065.2\n",
       "대전  2419000   883.5"
      ]
     },
     "execution_count": 102,
     "metadata": {},
     "output_type": "execute_result"
    }
   ],
   "source": [
    "df2"
   ]
  },
  {
   "cell_type": "code",
   "execution_count": 105,
   "id": "55512925",
   "metadata": {
    "ExecuteTime": {
     "end_time": "2022-12-09T06:53:00.746868Z",
     "start_time": "2022-12-09T06:53:00.730946Z"
    }
   },
   "outputs": [],
   "source": [
    "# 여러 개 (전주, 인천)을 지우고 싶을 때\n",
    "df2.drop(['전주','인천'], inplace =True)"
   ]
  },
  {
   "cell_type": "code",
   "execution_count": 107,
   "id": "79d61966",
   "metadata": {
    "ExecuteTime": {
     "end_time": "2022-12-09T06:59:30.678341Z",
     "start_time": "2022-12-09T06:59:30.658722Z"
    }
   },
   "outputs": [
    {
     "data": {
      "text/html": [
       "<div>\n",
       "<style scoped>\n",
       "    .dataframe tbody tr th:only-of-type {\n",
       "        vertical-align: middle;\n",
       "    }\n",
       "\n",
       "    .dataframe tbody tr th {\n",
       "        vertical-align: top;\n",
       "    }\n",
       "\n",
       "    .dataframe thead th {\n",
       "        text-align: right;\n",
       "    }\n",
       "</style>\n",
       "<table border=\"1\" class=\"dataframe\">\n",
       "  <thead>\n",
       "    <tr style=\"text-align: right;\">\n",
       "      <th></th>\n",
       "      <th>2020 인구</th>\n",
       "      <th>면적(㎦)</th>\n",
       "    </tr>\n",
       "  </thead>\n",
       "  <tbody>\n",
       "    <tr>\n",
       "      <th>부산</th>\n",
       "      <td>3500000</td>\n",
       "      <td>770.1</td>\n",
       "    </tr>\n",
       "    <tr>\n",
       "      <th>광주</th>\n",
       "      <td>1488000</td>\n",
       "      <td>501.1</td>\n",
       "    </tr>\n",
       "    <tr>\n",
       "      <th>대구</th>\n",
       "      <td>2419000</td>\n",
       "      <td>883.5</td>\n",
       "    </tr>\n",
       "    <tr>\n",
       "      <th>대전</th>\n",
       "      <td>2419000</td>\n",
       "      <td>883.5</td>\n",
       "    </tr>\n",
       "  </tbody>\n",
       "</table>\n",
       "</div>"
      ],
      "text/plain": [
       "    2020 인구  면적(㎦)\n",
       "부산  3500000  770.1\n",
       "광주  1488000  501.1\n",
       "대구  2419000  883.5\n",
       "대전  2419000  883.5"
      ]
     },
     "execution_count": 107,
     "metadata": {},
     "output_type": "execute_result"
    }
   ],
   "source": [
    "df2"
   ]
  },
  {
   "cell_type": "markdown",
   "id": "f965d3dd",
   "metadata": {},
   "source": [
    "#### 데이터 불러오는 함수"
   ]
  },
  {
   "cell_type": "code",
   "execution_count": 179,
   "id": "cc1e26dd",
   "metadata": {
    "ExecuteTime": {
     "end_time": "2022-12-09T08:12:47.996657Z",
     "start_time": "2022-12-09T08:12:47.982723Z"
    }
   },
   "outputs": [],
   "source": [
    "# 한글 불러오는 encoding 방식 : cp949, utf-8, euc-kr\n",
    "score = pd.read_csv('data/score.csv',\n",
    "            index_col = '과목',\n",
    "            encoding='euc-kr')"
   ]
  },
  {
   "cell_type": "code",
   "execution_count": 180,
   "id": "50d124b2",
   "metadata": {
    "ExecuteTime": {
     "end_time": "2022-12-09T08:12:50.032261Z",
     "start_time": "2022-12-09T08:12:50.015262Z"
    }
   },
   "outputs": [
    {
     "data": {
      "text/html": [
       "<div>\n",
       "<style scoped>\n",
       "    .dataframe tbody tr th:only-of-type {\n",
       "        vertical-align: middle;\n",
       "    }\n",
       "\n",
       "    .dataframe tbody tr th {\n",
       "        vertical-align: top;\n",
       "    }\n",
       "\n",
       "    .dataframe thead th {\n",
       "        text-align: right;\n",
       "    }\n",
       "</style>\n",
       "<table border=\"1\" class=\"dataframe\">\n",
       "  <thead>\n",
       "    <tr style=\"text-align: right;\">\n",
       "      <th></th>\n",
       "      <th>1반</th>\n",
       "      <th>2반</th>\n",
       "      <th>3반</th>\n",
       "      <th>4반</th>\n",
       "    </tr>\n",
       "    <tr>\n",
       "      <th>과목</th>\n",
       "      <th></th>\n",
       "      <th></th>\n",
       "      <th></th>\n",
       "      <th></th>\n",
       "    </tr>\n",
       "  </thead>\n",
       "  <tbody>\n",
       "    <tr>\n",
       "      <th>수학</th>\n",
       "      <td>45</td>\n",
       "      <td>44</td>\n",
       "      <td>73</td>\n",
       "      <td>39</td>\n",
       "    </tr>\n",
       "    <tr>\n",
       "      <th>영어</th>\n",
       "      <td>76</td>\n",
       "      <td>92</td>\n",
       "      <td>45</td>\n",
       "      <td>69</td>\n",
       "    </tr>\n",
       "    <tr>\n",
       "      <th>국어</th>\n",
       "      <td>47</td>\n",
       "      <td>92</td>\n",
       "      <td>45</td>\n",
       "      <td>69</td>\n",
       "    </tr>\n",
       "    <tr>\n",
       "      <th>사회</th>\n",
       "      <td>92</td>\n",
       "      <td>81</td>\n",
       "      <td>85</td>\n",
       "      <td>40</td>\n",
       "    </tr>\n",
       "    <tr>\n",
       "      <th>과학</th>\n",
       "      <td>11</td>\n",
       "      <td>79</td>\n",
       "      <td>47</td>\n",
       "      <td>26</td>\n",
       "    </tr>\n",
       "  </tbody>\n",
       "</table>\n",
       "</div>"
      ],
      "text/plain": [
       "    1반  2반  3반  4반\n",
       "과목                \n",
       "수학  45  44  73  39\n",
       "영어  76  92  45  69\n",
       "국어  47  92  45  69\n",
       "사회  92  81  85  40\n",
       "과학  11  79  47  26"
      ]
     },
     "execution_count": 180,
     "metadata": {},
     "output_type": "execute_result"
    }
   ],
   "source": [
    "score"
   ]
  },
  {
   "cell_type": "code",
   "execution_count": 118,
   "id": "397e69d4",
   "metadata": {
    "ExecuteTime": {
     "end_time": "2022-12-09T07:17:43.014679Z",
     "start_time": "2022-12-09T07:17:43.001715Z"
    }
   },
   "outputs": [
    {
     "data": {
      "text/plain": [
       "Index(['수학', '영어', '국어', '사회', '과학'], dtype='object', name='과목')"
      ]
     },
     "execution_count": 118,
     "metadata": {},
     "output_type": "execute_result"
    }
   ],
   "source": [
    "# 데이터 확인하기\n",
    "# 크기 확인 : shape\n",
    "score.shape\n",
    "# 데이터 타입\n",
    "# 데이터프레임의 데이터 타입 확인은 각각의 데이터로 접근해야한다.\n",
    "score['1반'].dtype\n",
    "# 컬럼명(이름) 확인\n",
    "score.columns\n",
    "# 행이름\n",
    "score.index"
   ]
  },
  {
   "cell_type": "markdown",
   "id": "6b213012",
   "metadata": {},
   "source": [
    "#### 데이터 정보 출력하는 함수"
   ]
  },
  {
   "cell_type": "code",
   "execution_count": 119,
   "id": "966bf282",
   "metadata": {
    "ExecuteTime": {
     "end_time": "2022-12-09T07:18:29.865112Z",
     "start_time": "2022-12-09T07:18:29.843170Z"
    }
   },
   "outputs": [
    {
     "name": "stdout",
     "output_type": "stream",
     "text": [
      "<class 'pandas.core.frame.DataFrame'>\n",
      "Index: 5 entries, 수학 to 과학\n",
      "Data columns (total 4 columns):\n",
      " #   Column  Non-Null Count  Dtype\n",
      "---  ------  --------------  -----\n",
      " 0   1반      5 non-null      int64\n",
      " 1   2반      5 non-null      int64\n",
      " 2   3반      5 non-null      int64\n",
      " 3   4반      5 non-null      int64\n",
      "dtypes: int64(4)\n",
      "memory usage: 200.0+ bytes\n"
     ]
    }
   ],
   "source": [
    "score.info()"
   ]
  },
  {
   "cell_type": "code",
   "execution_count": 121,
   "id": "4e4ef6f0",
   "metadata": {
    "ExecuteTime": {
     "end_time": "2022-12-09T07:21:52.195816Z",
     "start_time": "2022-12-09T07:21:52.176896Z"
    }
   },
   "outputs": [
    {
     "data": {
      "text/plain": [
       "1반    0\n",
       "2반    0\n",
       "3반    0\n",
       "4반    0\n",
       "dtype: int64"
      ]
     },
     "execution_count": 121,
     "metadata": {},
     "output_type": "execute_result"
    }
   ],
   "source": [
    "# 결측치 개수 확인해보기\n",
    "score.isnull().sum()"
   ]
  },
  {
   "cell_type": "markdown",
   "id": "0e068107",
   "metadata": {},
   "source": [
    "#### 결측치인지 아닌지 확인하는 함수\n"
   ]
  },
  {
   "cell_type": "code",
   "execution_count": 122,
   "id": "f552552b",
   "metadata": {
    "ExecuteTime": {
     "end_time": "2022-12-09T07:22:53.047640Z",
     "start_time": "2022-12-09T07:22:53.032711Z"
    }
   },
   "outputs": [
    {
     "data": {
      "text/html": [
       "<div>\n",
       "<style scoped>\n",
       "    .dataframe tbody tr th:only-of-type {\n",
       "        vertical-align: middle;\n",
       "    }\n",
       "\n",
       "    .dataframe tbody tr th {\n",
       "        vertical-align: top;\n",
       "    }\n",
       "\n",
       "    .dataframe thead th {\n",
       "        text-align: right;\n",
       "    }\n",
       "</style>\n",
       "<table border=\"1\" class=\"dataframe\">\n",
       "  <thead>\n",
       "    <tr style=\"text-align: right;\">\n",
       "      <th></th>\n",
       "      <th>1반</th>\n",
       "      <th>2반</th>\n",
       "      <th>3반</th>\n",
       "      <th>4반</th>\n",
       "    </tr>\n",
       "    <tr>\n",
       "      <th>과목</th>\n",
       "      <th></th>\n",
       "      <th></th>\n",
       "      <th></th>\n",
       "      <th></th>\n",
       "    </tr>\n",
       "  </thead>\n",
       "  <tbody>\n",
       "    <tr>\n",
       "      <th>수학</th>\n",
       "      <td>False</td>\n",
       "      <td>False</td>\n",
       "      <td>False</td>\n",
       "      <td>False</td>\n",
       "    </tr>\n",
       "    <tr>\n",
       "      <th>영어</th>\n",
       "      <td>False</td>\n",
       "      <td>False</td>\n",
       "      <td>False</td>\n",
       "      <td>False</td>\n",
       "    </tr>\n",
       "    <tr>\n",
       "      <th>국어</th>\n",
       "      <td>False</td>\n",
       "      <td>False</td>\n",
       "      <td>False</td>\n",
       "      <td>False</td>\n",
       "    </tr>\n",
       "    <tr>\n",
       "      <th>사회</th>\n",
       "      <td>False</td>\n",
       "      <td>False</td>\n",
       "      <td>False</td>\n",
       "      <td>False</td>\n",
       "    </tr>\n",
       "    <tr>\n",
       "      <th>과학</th>\n",
       "      <td>False</td>\n",
       "      <td>False</td>\n",
       "      <td>False</td>\n",
       "      <td>False</td>\n",
       "    </tr>\n",
       "  </tbody>\n",
       "</table>\n",
       "</div>"
      ],
      "text/plain": [
       "       1반     2반     3반     4반\n",
       "과목                            \n",
       "수학  False  False  False  False\n",
       "영어  False  False  False  False\n",
       "국어  False  False  False  False\n",
       "사회  False  False  False  False\n",
       "과학  False  False  False  False"
      ]
     },
     "execution_count": 122,
     "metadata": {},
     "output_type": "execute_result"
    }
   ],
   "source": [
    "score.isnull()\n",
    "# 결측치 O : True\n",
    "# 결측치 X : False"
   ]
  },
  {
   "cell_type": "markdown",
   "id": "886bb84f",
   "metadata": {},
   "source": [
    "#### 총합을 구하는 함수"
   ]
  },
  {
   "cell_type": "code",
   "execution_count": 124,
   "id": "0038b344",
   "metadata": {
    "ExecuteTime": {
     "end_time": "2022-12-09T07:24:55.423427Z",
     "start_time": "2022-12-09T07:24:55.417443Z"
    }
   },
   "outputs": [
    {
     "data": {
      "text/plain": [
       "과목\n",
       "수학    0\n",
       "영어    0\n",
       "국어    0\n",
       "사회    0\n",
       "과학    0\n",
       "dtype: int64"
      ]
     },
     "execution_count": 124,
     "metadata": {},
     "output_type": "execute_result"
    }
   ],
   "source": [
    "score.isnull().sum(axis = 1)"
   ]
  },
  {
   "cell_type": "markdown",
   "id": "07fdcbb1",
   "metadata": {},
   "source": [
    "#### 학급별 순위(성적이 높은 순부터)"
   ]
  },
  {
   "cell_type": "code",
   "execution_count": 137,
   "id": "19a0783b",
   "metadata": {
    "ExecuteTime": {
     "end_time": "2022-12-09T07:37:35.521549Z",
     "start_time": "2022-12-09T07:37:35.511575Z"
    }
   },
   "outputs": [
    {
     "data": {
      "text/plain": [
       "과목\n",
       "수학    201.0\n",
       "영어    282.0\n",
       "국어    253.0\n",
       "사회    298.0\n",
       "과학    163.0\n",
       "dtype: float64"
      ]
     },
     "execution_count": 137,
     "metadata": {},
     "output_type": "execute_result"
    }
   ],
   "source": [
    "score1 =score.sum(axis = 1)\n",
    "score1"
   ]
  },
  {
   "cell_type": "code",
   "execution_count": 131,
   "id": "0afc881c",
   "metadata": {
    "ExecuteTime": {
     "end_time": "2022-12-09T07:28:40.081519Z",
     "start_time": "2022-12-09T07:28:40.072543Z"
    }
   },
   "outputs": [
    {
     "data": {
      "text/plain": [
       "2반    388\n",
       "3반    295\n",
       "1반    271\n",
       "4반    243\n",
       "dtype: int64"
      ]
     },
     "execution_count": 131,
     "metadata": {},
     "output_type": "execute_result"
    }
   ],
   "source": [
    "score1.sort_values(ascending = False)"
   ]
  },
  {
   "cell_type": "markdown",
   "id": "f5520710",
   "metadata": {},
   "source": [
    "#### 과목별 합계를 계산해서 합계컬럼으로 추가하기"
   ]
  },
  {
   "cell_type": "code",
   "execution_count": 181,
   "id": "3d853a6f",
   "metadata": {
    "ExecuteTime": {
     "end_time": "2022-12-09T08:13:02.067512Z",
     "start_time": "2022-12-09T08:13:02.062497Z"
    }
   },
   "outputs": [],
   "source": [
    "score['합계'] = score.sum(axis = 1)"
   ]
  },
  {
   "cell_type": "code",
   "execution_count": 141,
   "id": "ee245257",
   "metadata": {
    "ExecuteTime": {
     "end_time": "2022-12-09T07:38:29.701251Z",
     "start_time": "2022-12-09T07:38:29.688286Z"
    }
   },
   "outputs": [],
   "source": [
    "score.drop('합계',axis =1, inplace = True)"
   ]
  },
  {
   "cell_type": "code",
   "execution_count": 182,
   "id": "fda97bd5",
   "metadata": {
    "ExecuteTime": {
     "end_time": "2022-12-09T08:13:03.791964Z",
     "start_time": "2022-12-09T08:13:03.783957Z"
    }
   },
   "outputs": [
    {
     "data": {
      "text/html": [
       "<div>\n",
       "<style scoped>\n",
       "    .dataframe tbody tr th:only-of-type {\n",
       "        vertical-align: middle;\n",
       "    }\n",
       "\n",
       "    .dataframe tbody tr th {\n",
       "        vertical-align: top;\n",
       "    }\n",
       "\n",
       "    .dataframe thead th {\n",
       "        text-align: right;\n",
       "    }\n",
       "</style>\n",
       "<table border=\"1\" class=\"dataframe\">\n",
       "  <thead>\n",
       "    <tr style=\"text-align: right;\">\n",
       "      <th></th>\n",
       "      <th>1반</th>\n",
       "      <th>2반</th>\n",
       "      <th>3반</th>\n",
       "      <th>4반</th>\n",
       "      <th>합계</th>\n",
       "    </tr>\n",
       "    <tr>\n",
       "      <th>과목</th>\n",
       "      <th></th>\n",
       "      <th></th>\n",
       "      <th></th>\n",
       "      <th></th>\n",
       "      <th></th>\n",
       "    </tr>\n",
       "  </thead>\n",
       "  <tbody>\n",
       "    <tr>\n",
       "      <th>수학</th>\n",
       "      <td>45</td>\n",
       "      <td>44</td>\n",
       "      <td>73</td>\n",
       "      <td>39</td>\n",
       "      <td>201</td>\n",
       "    </tr>\n",
       "    <tr>\n",
       "      <th>영어</th>\n",
       "      <td>76</td>\n",
       "      <td>92</td>\n",
       "      <td>45</td>\n",
       "      <td>69</td>\n",
       "      <td>282</td>\n",
       "    </tr>\n",
       "    <tr>\n",
       "      <th>국어</th>\n",
       "      <td>47</td>\n",
       "      <td>92</td>\n",
       "      <td>45</td>\n",
       "      <td>69</td>\n",
       "      <td>253</td>\n",
       "    </tr>\n",
       "    <tr>\n",
       "      <th>사회</th>\n",
       "      <td>92</td>\n",
       "      <td>81</td>\n",
       "      <td>85</td>\n",
       "      <td>40</td>\n",
       "      <td>298</td>\n",
       "    </tr>\n",
       "    <tr>\n",
       "      <th>과학</th>\n",
       "      <td>11</td>\n",
       "      <td>79</td>\n",
       "      <td>47</td>\n",
       "      <td>26</td>\n",
       "      <td>163</td>\n",
       "    </tr>\n",
       "  </tbody>\n",
       "</table>\n",
       "</div>"
      ],
      "text/plain": [
       "    1반  2반  3반  4반   합계\n",
       "과목                     \n",
       "수학  45  44  73  39  201\n",
       "영어  76  92  45  69  282\n",
       "국어  47  92  45  69  253\n",
       "사회  92  81  85  40  298\n",
       "과학  11  79  47  26  163"
      ]
     },
     "execution_count": 182,
     "metadata": {},
     "output_type": "execute_result"
    }
   ],
   "source": [
    "score"
   ]
  },
  {
   "cell_type": "markdown",
   "id": "f37af15c",
   "metadata": {},
   "source": [
    "#### 과목별 평균을 계산하여 컬럼 추가하기"
   ]
  },
  {
   "cell_type": "code",
   "execution_count": 183,
   "id": "fd49c933",
   "metadata": {
    "ExecuteTime": {
     "end_time": "2022-12-09T08:13:11.079532Z",
     "start_time": "2022-12-09T08:13:11.069590Z"
    }
   },
   "outputs": [],
   "source": [
    "score['평균'] = score.iloc[:,:4].sum(axis = 1)/4"
   ]
  },
  {
   "cell_type": "code",
   "execution_count": 171,
   "id": "70e78c8e",
   "metadata": {
    "ExecuteTime": {
     "end_time": "2022-12-09T07:54:29.340565Z",
     "start_time": "2022-12-09T07:54:29.319620Z"
    }
   },
   "outputs": [
    {
     "data": {
      "text/plain": [
       "과목\n",
       "수학    50.25\n",
       "영어    70.50\n",
       "국어    63.25\n",
       "사회    74.50\n",
       "과학    40.75\n",
       "Name: 합계, dtype: float64"
      ]
     },
     "execution_count": 171,
     "metadata": {},
     "output_type": "execute_result"
    }
   ],
   "source": [
    "score['합계']/len(score.columns[:4])"
   ]
  },
  {
   "cell_type": "code",
   "execution_count": 184,
   "id": "2bf7d4dc",
   "metadata": {
    "ExecuteTime": {
     "end_time": "2022-12-09T08:13:15.173429Z",
     "start_time": "2022-12-09T08:13:15.164426Z"
    }
   },
   "outputs": [
    {
     "data": {
      "text/html": [
       "<div>\n",
       "<style scoped>\n",
       "    .dataframe tbody tr th:only-of-type {\n",
       "        vertical-align: middle;\n",
       "    }\n",
       "\n",
       "    .dataframe tbody tr th {\n",
       "        vertical-align: top;\n",
       "    }\n",
       "\n",
       "    .dataframe thead th {\n",
       "        text-align: right;\n",
       "    }\n",
       "</style>\n",
       "<table border=\"1\" class=\"dataframe\">\n",
       "  <thead>\n",
       "    <tr style=\"text-align: right;\">\n",
       "      <th></th>\n",
       "      <th>1반</th>\n",
       "      <th>2반</th>\n",
       "      <th>3반</th>\n",
       "      <th>4반</th>\n",
       "      <th>합계</th>\n",
       "      <th>평균</th>\n",
       "    </tr>\n",
       "    <tr>\n",
       "      <th>과목</th>\n",
       "      <th></th>\n",
       "      <th></th>\n",
       "      <th></th>\n",
       "      <th></th>\n",
       "      <th></th>\n",
       "      <th></th>\n",
       "    </tr>\n",
       "  </thead>\n",
       "  <tbody>\n",
       "    <tr>\n",
       "      <th>수학</th>\n",
       "      <td>45</td>\n",
       "      <td>44</td>\n",
       "      <td>73</td>\n",
       "      <td>39</td>\n",
       "      <td>201</td>\n",
       "      <td>50.25</td>\n",
       "    </tr>\n",
       "    <tr>\n",
       "      <th>영어</th>\n",
       "      <td>76</td>\n",
       "      <td>92</td>\n",
       "      <td>45</td>\n",
       "      <td>69</td>\n",
       "      <td>282</td>\n",
       "      <td>70.50</td>\n",
       "    </tr>\n",
       "    <tr>\n",
       "      <th>국어</th>\n",
       "      <td>47</td>\n",
       "      <td>92</td>\n",
       "      <td>45</td>\n",
       "      <td>69</td>\n",
       "      <td>253</td>\n",
       "      <td>63.25</td>\n",
       "    </tr>\n",
       "    <tr>\n",
       "      <th>사회</th>\n",
       "      <td>92</td>\n",
       "      <td>81</td>\n",
       "      <td>85</td>\n",
       "      <td>40</td>\n",
       "      <td>298</td>\n",
       "      <td>74.50</td>\n",
       "    </tr>\n",
       "    <tr>\n",
       "      <th>과학</th>\n",
       "      <td>11</td>\n",
       "      <td>79</td>\n",
       "      <td>47</td>\n",
       "      <td>26</td>\n",
       "      <td>163</td>\n",
       "      <td>40.75</td>\n",
       "    </tr>\n",
       "  </tbody>\n",
       "</table>\n",
       "</div>"
      ],
      "text/plain": [
       "    1반  2반  3반  4반   합계     평균\n",
       "과목                            \n",
       "수학  45  44  73  39  201  50.25\n",
       "영어  76  92  45  69  282  70.50\n",
       "국어  47  92  45  69  253  63.25\n",
       "사회  92  81  85  40  298  74.50\n",
       "과학  11  79  47  26  163  40.75"
      ]
     },
     "execution_count": 184,
     "metadata": {},
     "output_type": "execute_result"
    }
   ],
   "source": [
    "score"
   ]
  },
  {
   "cell_type": "markdown",
   "id": "560f1480",
   "metadata": {},
   "source": [
    "#### 반 평균 계산해서 새로운 행으로 추가하기"
   ]
  },
  {
   "cell_type": "code",
   "execution_count": 194,
   "id": "d8c8b137",
   "metadata": {
    "ExecuteTime": {
     "end_time": "2022-12-09T08:19:23.381240Z",
     "start_time": "2022-12-09T08:19:23.372293Z"
    }
   },
   "outputs": [],
   "source": [
    "score.loc['반평균'] = score.mean()"
   ]
  },
  {
   "cell_type": "code",
   "execution_count": 195,
   "id": "616c0939",
   "metadata": {
    "ExecuteTime": {
     "end_time": "2022-12-09T08:19:25.193749Z",
     "start_time": "2022-12-09T08:19:25.181783Z"
    }
   },
   "outputs": [
    {
     "data": {
      "text/html": [
       "<div>\n",
       "<style scoped>\n",
       "    .dataframe tbody tr th:only-of-type {\n",
       "        vertical-align: middle;\n",
       "    }\n",
       "\n",
       "    .dataframe tbody tr th {\n",
       "        vertical-align: top;\n",
       "    }\n",
       "\n",
       "    .dataframe thead th {\n",
       "        text-align: right;\n",
       "    }\n",
       "</style>\n",
       "<table border=\"1\" class=\"dataframe\">\n",
       "  <thead>\n",
       "    <tr style=\"text-align: right;\">\n",
       "      <th></th>\n",
       "      <th>1반</th>\n",
       "      <th>2반</th>\n",
       "      <th>3반</th>\n",
       "      <th>4반</th>\n",
       "      <th>합계</th>\n",
       "      <th>평균</th>\n",
       "    </tr>\n",
       "    <tr>\n",
       "      <th>과목</th>\n",
       "      <th></th>\n",
       "      <th></th>\n",
       "      <th></th>\n",
       "      <th></th>\n",
       "      <th></th>\n",
       "      <th></th>\n",
       "    </tr>\n",
       "  </thead>\n",
       "  <tbody>\n",
       "    <tr>\n",
       "      <th>수학</th>\n",
       "      <td>45.0</td>\n",
       "      <td>44.0</td>\n",
       "      <td>73.0</td>\n",
       "      <td>39.0</td>\n",
       "      <td>201.0</td>\n",
       "      <td>50.25</td>\n",
       "    </tr>\n",
       "    <tr>\n",
       "      <th>영어</th>\n",
       "      <td>76.0</td>\n",
       "      <td>92.0</td>\n",
       "      <td>45.0</td>\n",
       "      <td>69.0</td>\n",
       "      <td>282.0</td>\n",
       "      <td>70.50</td>\n",
       "    </tr>\n",
       "    <tr>\n",
       "      <th>국어</th>\n",
       "      <td>47.0</td>\n",
       "      <td>92.0</td>\n",
       "      <td>45.0</td>\n",
       "      <td>69.0</td>\n",
       "      <td>253.0</td>\n",
       "      <td>63.25</td>\n",
       "    </tr>\n",
       "    <tr>\n",
       "      <th>사회</th>\n",
       "      <td>92.0</td>\n",
       "      <td>81.0</td>\n",
       "      <td>85.0</td>\n",
       "      <td>40.0</td>\n",
       "      <td>298.0</td>\n",
       "      <td>74.50</td>\n",
       "    </tr>\n",
       "    <tr>\n",
       "      <th>과학</th>\n",
       "      <td>11.0</td>\n",
       "      <td>79.0</td>\n",
       "      <td>47.0</td>\n",
       "      <td>26.0</td>\n",
       "      <td>163.0</td>\n",
       "      <td>40.75</td>\n",
       "    </tr>\n",
       "    <tr>\n",
       "      <th>반평균</th>\n",
       "      <td>54.2</td>\n",
       "      <td>77.6</td>\n",
       "      <td>59.0</td>\n",
       "      <td>48.6</td>\n",
       "      <td>239.4</td>\n",
       "      <td>59.85</td>\n",
       "    </tr>\n",
       "  </tbody>\n",
       "</table>\n",
       "</div>"
      ],
      "text/plain": [
       "       1반    2반    3반    4반     합계     평균\n",
       "과목                                       \n",
       "수학   45.0  44.0  73.0  39.0  201.0  50.25\n",
       "영어   76.0  92.0  45.0  69.0  282.0  70.50\n",
       "국어   47.0  92.0  45.0  69.0  253.0  63.25\n",
       "사회   92.0  81.0  85.0  40.0  298.0  74.50\n",
       "과학   11.0  79.0  47.0  26.0  163.0  40.75\n",
       "반평균  54.2  77.6  59.0  48.6  239.4  59.85"
      ]
     },
     "execution_count": 195,
     "metadata": {},
     "output_type": "execute_result"
    }
   ],
   "source": [
    "score"
   ]
  },
  {
   "cell_type": "markdown",
   "id": "6b9df9ce",
   "metadata": {},
   "source": [
    "#### 최대값 최소값 구하는 함수"
   ]
  },
  {
   "cell_type": "code",
   "execution_count": 198,
   "id": "31bc6c2f",
   "metadata": {
    "ExecuteTime": {
     "end_time": "2022-12-09T08:22:40.507198Z",
     "start_time": "2022-12-09T08:22:40.500214Z"
    }
   },
   "outputs": [
    {
     "data": {
      "text/plain": [
       "1반     11.00\n",
       "2반     44.00\n",
       "3반     45.00\n",
       "4반     26.00\n",
       "합계    163.00\n",
       "평균     40.75\n",
       "dtype: float64"
      ]
     },
     "execution_count": 198,
     "metadata": {},
     "output_type": "execute_result"
    }
   ],
   "source": [
    "# max()\n",
    "score.max(axis =1)\n",
    "score.min()"
   ]
  },
  {
   "cell_type": "markdown",
   "id": "ee7bea4d",
   "metadata": {},
   "source": [
    "#### 1~4반까지 점수중 과목별 가장 큰 값과 가장 작은 값의 차를 구하시오"
   ]
  },
  {
   "cell_type": "code",
   "execution_count": 206,
   "id": "1575989e",
   "metadata": {
    "ExecuteTime": {
     "end_time": "2022-12-09T08:27:12.712330Z",
     "start_time": "2022-12-09T08:27:12.692857Z"
    }
   },
   "outputs": [
    {
     "data": {
      "text/plain": [
       "과목\n",
       "수학    34.0\n",
       "영어    47.0\n",
       "국어    47.0\n",
       "사회    52.0\n",
       "과학    68.0\n",
       "dtype: float64"
      ]
     },
     "execution_count": 206,
     "metadata": {},
     "output_type": "execute_result"
    }
   ],
   "source": [
    "score.iloc[:5,:4].max(axis = 1) - score.iloc[:5,:4].min(axis = 1)"
   ]
  },
  {
   "cell_type": "markdown",
   "id": "42eeb40d",
   "metadata": {},
   "source": [
    "#### cut 함수 : 수치형 데이터 -> 범주형 데이터"
   ]
  },
  {
   "cell_type": "code",
   "execution_count": 215,
   "id": "f82463cc",
   "metadata": {
    "ExecuteTime": {
     "end_time": "2022-12-12T05:35:10.983787Z",
     "start_time": "2022-12-12T05:35:10.967853Z"
    }
   },
   "outputs": [
    {
     "data": {
      "text/plain": [
       "0     미성년자\n",
       "1     미성년자\n",
       "2     미성년자\n",
       "3       청년\n",
       "4       청년\n",
       "5       장년\n",
       "6       장년\n",
       "7       노년\n",
       "8       청년\n",
       "9       중년\n",
       "10      장년\n",
       "11      노년\n",
       "dtype: category\n",
       "Categories (5, object): ['미성년자' < '청년' < '장년' < '중년' < '노년']"
      ]
     },
     "execution_count": 215,
     "metadata": {},
     "output_type": "execute_result"
    }
   ],
   "source": [
    "ages = [0,2,10,21,23,37,31,61,20,41,32,100]\n",
    "bins = [-1,15,30,40,60,100] # 구간 설정\n",
    "labels = ['미성년자','청년','장년','중년','노년']\n",
    "cats = pd.cut(ages, bins=bins,labels=labels)\n",
    "cats\n",
    "pd.Series(cats)"
   ]
  },
  {
   "cell_type": "markdown",
   "id": "d67c377a",
   "metadata": {},
   "source": [
    "#### groupby() 데이터를 그룹별로 묶어 집계낼 수 있게 하는 함수"
   ]
  },
  {
   "cell_type": "code",
   "execution_count": 221,
   "id": "9e6dc7fd",
   "metadata": {
    "ExecuteTime": {
     "end_time": "2022-12-12T05:39:08.224784Z",
     "start_time": "2022-12-12T05:39:08.214781Z"
    }
   },
   "outputs": [
    {
     "data": {
      "text/html": [
       "<div>\n",
       "<style scoped>\n",
       "    .dataframe tbody tr th:only-of-type {\n",
       "        vertical-align: middle;\n",
       "    }\n",
       "\n",
       "    .dataframe tbody tr th {\n",
       "        vertical-align: top;\n",
       "    }\n",
       "\n",
       "    .dataframe thead th {\n",
       "        text-align: right;\n",
       "    }\n",
       "</style>\n",
       "<table border=\"1\" class=\"dataframe\">\n",
       "  <thead>\n",
       "    <tr style=\"text-align: right;\">\n",
       "      <th></th>\n",
       "      <th>Servived</th>\n",
       "      <th>Sex</th>\n",
       "      <th>PassengerID</th>\n",
       "    </tr>\n",
       "  </thead>\n",
       "  <tbody>\n",
       "    <tr>\n",
       "      <th>0</th>\n",
       "      <td>1</td>\n",
       "      <td>female</td>\n",
       "      <td>1</td>\n",
       "    </tr>\n",
       "    <tr>\n",
       "      <th>1</th>\n",
       "      <td>0</td>\n",
       "      <td>female</td>\n",
       "      <td>2</td>\n",
       "    </tr>\n",
       "    <tr>\n",
       "      <th>2</th>\n",
       "      <td>1</td>\n",
       "      <td>male</td>\n",
       "      <td>3</td>\n",
       "    </tr>\n",
       "    <tr>\n",
       "      <th>3</th>\n",
       "      <td>0</td>\n",
       "      <td>male</td>\n",
       "      <td>4</td>\n",
       "    </tr>\n",
       "    <tr>\n",
       "      <th>4</th>\n",
       "      <td>1</td>\n",
       "      <td>female</td>\n",
       "      <td>5</td>\n",
       "    </tr>\n",
       "  </tbody>\n",
       "</table>\n",
       "</div>"
      ],
      "text/plain": [
       "   Servived     Sex  PassengerID\n",
       "0         1  female            1\n",
       "1         0  female            2\n",
       "2         1    male            3\n",
       "3         0    male            4\n",
       "4         1  female            5"
      ]
     },
     "execution_count": 221,
     "metadata": {},
     "output_type": "execute_result"
    }
   ],
   "source": [
    "s1 = pd.Series([1,0,1,0,1])\n",
    "s2 = pd.Series(['female','female','male','male','female'])\n",
    "s3 = pd.Series([1,2,3,4,5])\n",
    "\n",
    "ti = pd.concat([s1,s2,s3],axis = 1)\n",
    "ti.columns = ['Servived','Sex','PassengerID']\n",
    "ti"
   ]
  },
  {
   "cell_type": "code",
   "execution_count": 227,
   "id": "7684463e",
   "metadata": {
    "ExecuteTime": {
     "end_time": "2022-12-12T05:42:21.980199Z",
     "start_time": "2022-12-12T05:42:21.958258Z"
    }
   },
   "outputs": [
    {
     "data": {
      "text/html": [
       "<div>\n",
       "<style scoped>\n",
       "    .dataframe tbody tr th:only-of-type {\n",
       "        vertical-align: middle;\n",
       "    }\n",
       "\n",
       "    .dataframe tbody tr th {\n",
       "        vertical-align: top;\n",
       "    }\n",
       "\n",
       "    .dataframe thead th {\n",
       "        text-align: right;\n",
       "    }\n",
       "</style>\n",
       "<table border=\"1\" class=\"dataframe\">\n",
       "  <thead>\n",
       "    <tr style=\"text-align: right;\">\n",
       "      <th></th>\n",
       "      <th>Servived</th>\n",
       "    </tr>\n",
       "    <tr>\n",
       "      <th>Sex</th>\n",
       "      <th></th>\n",
       "    </tr>\n",
       "  </thead>\n",
       "  <tbody>\n",
       "    <tr>\n",
       "      <th>female</th>\n",
       "      <td>2</td>\n",
       "    </tr>\n",
       "    <tr>\n",
       "      <th>male</th>\n",
       "      <td>1</td>\n",
       "    </tr>\n",
       "  </tbody>\n",
       "</table>\n",
       "</div>"
      ],
      "text/plain": [
       "        Servived\n",
       "Sex             \n",
       "female         2\n",
       "male           1"
      ]
     },
     "execution_count": 227,
     "metadata": {},
     "output_type": "execute_result"
    }
   ],
   "source": [
    "# 성별에 따른 생존자 수 확인하기\n",
    "ti[['Servived','Sex']].groupby('Sex').sum() # 성별을 기준으로 묶어서 결과를 반환"
   ]
  },
  {
   "cell_type": "code",
   "execution_count": 248,
   "id": "6f791c3d",
   "metadata": {
    "ExecuteTime": {
     "end_time": "2022-12-12T05:50:13.872475Z",
     "start_time": "2022-12-12T05:50:13.862538Z"
    }
   },
   "outputs": [
    {
     "data": {
      "text/html": [
       "<div>\n",
       "<style scoped>\n",
       "    .dataframe tbody tr th:only-of-type {\n",
       "        vertical-align: middle;\n",
       "    }\n",
       "\n",
       "    .dataframe tbody tr th {\n",
       "        vertical-align: top;\n",
       "    }\n",
       "\n",
       "    .dataframe thead th {\n",
       "        text-align: right;\n",
       "    }\n",
       "</style>\n",
       "<table border=\"1\" class=\"dataframe\">\n",
       "  <thead>\n",
       "    <tr style=\"text-align: right;\">\n",
       "      <th></th>\n",
       "      <th></th>\n",
       "      <th>PassengerID</th>\n",
       "    </tr>\n",
       "    <tr>\n",
       "      <th>Sex</th>\n",
       "      <th>Servived</th>\n",
       "      <th></th>\n",
       "    </tr>\n",
       "  </thead>\n",
       "  <tbody>\n",
       "    <tr>\n",
       "      <th rowspan=\"2\" valign=\"top\">female</th>\n",
       "      <th>0</th>\n",
       "      <td>1</td>\n",
       "    </tr>\n",
       "    <tr>\n",
       "      <th>1</th>\n",
       "      <td>2</td>\n",
       "    </tr>\n",
       "    <tr>\n",
       "      <th rowspan=\"2\" valign=\"top\">male</th>\n",
       "      <th>0</th>\n",
       "      <td>1</td>\n",
       "    </tr>\n",
       "    <tr>\n",
       "      <th>1</th>\n",
       "      <td>1</td>\n",
       "    </tr>\n",
       "  </tbody>\n",
       "</table>\n",
       "</div>"
      ],
      "text/plain": [
       "                 PassengerID\n",
       "Sex    Servived             \n",
       "female 0                   1\n",
       "       1                   2\n",
       "male   0                   1\n",
       "       1                   1"
      ]
     },
     "execution_count": 248,
     "metadata": {},
     "output_type": "execute_result"
    }
   ],
   "source": [
    "# 성별에 따른 생존자수 / 사망자 수 확인하기\n",
    "ti.groupby(by =['Sex','Servived']).count()\n"
   ]
  },
  {
   "cell_type": "code",
   "execution_count": null,
   "id": "5da9af4c",
   "metadata": {},
   "outputs": [],
   "source": []
  },
  {
   "cell_type": "code",
   "execution_count": null,
   "id": "aa6b36df",
   "metadata": {},
   "outputs": [],
   "source": []
  },
  {
   "cell_type": "code",
   "execution_count": null,
   "id": "5d99d090",
   "metadata": {},
   "outputs": [],
   "source": []
  },
  {
   "cell_type": "code",
   "execution_count": null,
   "id": "1423c4fd",
   "metadata": {},
   "outputs": [],
   "source": []
  },
  {
   "cell_type": "code",
   "execution_count": null,
   "id": "dc03d54b",
   "metadata": {},
   "outputs": [],
   "source": []
  },
  {
   "cell_type": "code",
   "execution_count": null,
   "id": "e373cf0f",
   "metadata": {},
   "outputs": [],
   "source": []
  },
  {
   "cell_type": "code",
   "execution_count": null,
   "id": "815d0e31",
   "metadata": {},
   "outputs": [],
   "source": []
  },
  {
   "cell_type": "code",
   "execution_count": null,
   "id": "ff659cd4",
   "metadata": {},
   "outputs": [],
   "source": []
  },
  {
   "cell_type": "code",
   "execution_count": null,
   "id": "3c6cba65",
   "metadata": {},
   "outputs": [],
   "source": []
  },
  {
   "cell_type": "code",
   "execution_count": null,
   "id": "a8eb8e96",
   "metadata": {},
   "outputs": [],
   "source": []
  },
  {
   "cell_type": "code",
   "execution_count": null,
   "id": "c5127510",
   "metadata": {},
   "outputs": [],
   "source": []
  },
  {
   "cell_type": "code",
   "execution_count": null,
   "id": "13802666",
   "metadata": {},
   "outputs": [],
   "source": []
  },
  {
   "cell_type": "code",
   "execution_count": null,
   "id": "150a1a73",
   "metadata": {},
   "outputs": [],
   "source": []
  },
  {
   "cell_type": "code",
   "execution_count": null,
   "id": "dc4b3f65",
   "metadata": {},
   "outputs": [],
   "source": []
  },
  {
   "cell_type": "code",
   "execution_count": null,
   "id": "713001cf",
   "metadata": {},
   "outputs": [],
   "source": []
  },
  {
   "cell_type": "code",
   "execution_count": null,
   "id": "5dcbd8e9",
   "metadata": {},
   "outputs": [],
   "source": []
  },
  {
   "cell_type": "code",
   "execution_count": null,
   "id": "be302cea",
   "metadata": {},
   "outputs": [],
   "source": []
  },
  {
   "cell_type": "code",
   "execution_count": null,
   "id": "22a18f80",
   "metadata": {},
   "outputs": [],
   "source": []
  },
  {
   "cell_type": "code",
   "execution_count": null,
   "id": "859cbe0a",
   "metadata": {},
   "outputs": [],
   "source": []
  },
  {
   "cell_type": "code",
   "execution_count": null,
   "id": "43d7fa20",
   "metadata": {},
   "outputs": [],
   "source": []
  },
  {
   "cell_type": "code",
   "execution_count": null,
   "id": "b8914f86",
   "metadata": {},
   "outputs": [],
   "source": []
  },
  {
   "cell_type": "code",
   "execution_count": null,
   "id": "d12c9715",
   "metadata": {},
   "outputs": [],
   "source": []
  },
  {
   "cell_type": "code",
   "execution_count": null,
   "id": "3b50d9f9",
   "metadata": {},
   "outputs": [],
   "source": []
  },
  {
   "cell_type": "code",
   "execution_count": null,
   "id": "5f48ff63",
   "metadata": {},
   "outputs": [],
   "source": []
  },
  {
   "cell_type": "code",
   "execution_count": null,
   "id": "b5b1c477",
   "metadata": {},
   "outputs": [],
   "source": []
  },
  {
   "cell_type": "code",
   "execution_count": null,
   "id": "2a0dbdbc",
   "metadata": {},
   "outputs": [],
   "source": []
  },
  {
   "cell_type": "code",
   "execution_count": null,
   "id": "21884104",
   "metadata": {},
   "outputs": [],
   "source": []
  },
  {
   "cell_type": "code",
   "execution_count": null,
   "id": "2d99c11a",
   "metadata": {},
   "outputs": [],
   "source": []
  }
 ],
 "metadata": {
  "kernelspec": {
   "display_name": "Python 3 (ipykernel)",
   "language": "python",
   "name": "python3"
  },
  "language_info": {
   "codemirror_mode": {
    "name": "ipython",
    "version": 3
   },
   "file_extension": ".py",
   "mimetype": "text/x-python",
   "name": "python",
   "nbconvert_exporter": "python",
   "pygments_lexer": "ipython3",
   "version": "3.9.13"
  },
  "toc": {
   "base_numbering": 1,
   "nav_menu": {},
   "number_sections": true,
   "sideBar": true,
   "skip_h1_title": false,
   "title_cell": "Table of Contents",
   "title_sidebar": "Contents",
   "toc_cell": false,
   "toc_position": {
    "height": "771px",
    "left": "27px",
    "top": "111.125px",
    "width": "165px"
   },
   "toc_section_display": true,
   "toc_window_display": true
  }
 },
 "nbformat": 4,
 "nbformat_minor": 5
}
