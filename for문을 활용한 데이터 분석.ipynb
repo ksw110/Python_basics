{
 "cells": [
  {
   "cell_type": "markdown",
   "id": "850f85ee",
   "metadata": {},
   "source": [
    "### 파이썬에서 파일을 읽고 쓰기\n",
    "- 파이썬 내장함수 open() 사용\n",
    "    - f.open() ~ f.close()\n",
    "- with문 사용\n",
    "    - with open() as f:\n",
    "        f.write()"
   ]
  },
  {
   "cell_type": "markdown",
   "id": "81aa0df6",
   "metadata": {},
   "source": [
    "### pickle\n",
    "- 파이썬에서 리스트, 튜플 등의 자료구조 형태를 유지하면서 파일로 저장, 불러올 때 사용하는 모듈\n",
    "- 규칙이 있는 데이터의 형식을 유지하면서 데이터를 저장\n",
    "- 바이너리 형태로 저장 (저장용량이 다른 파일구조에 비해 작다)\n",
    "- 불러올때 : rd(read binary), 저장할때 : wb(write binary)"
   ]
  },
  {
   "cell_type": "markdown",
   "id": "6ca932c3",
   "metadata": {},
   "source": [
    "### 네이버 영화 리뷰 데이터 분석하기"
   ]
  },
  {
   "cell_type": "code",
   "execution_count": 8,
   "id": "7b8ec358",
   "metadata": {
    "ExecuteTime": {
     "end_time": "2022-12-01T03:29:49.280283Z",
     "start_time": "2022-12-01T03:29:49.268315Z"
    }
   },
   "outputs": [],
   "source": [
    "import pickle"
   ]
  },
  {
   "cell_type": "code",
   "execution_count": 10,
   "id": "09b8906e",
   "metadata": {
    "ExecuteTime": {
     "end_time": "2022-12-01T03:29:59.783497Z",
     "start_time": "2022-12-01T03:29:59.765544Z"
    }
   },
   "outputs": [
    {
     "data": {
      "text/plain": [
       "[['아 더빙.. 진짜 짜증나네요 목소리', 0],\n",
       " ['흠...포스터보고 초딩영화줄....오버연기조차 가볍지 않구나', 1],\n",
       " ['너무재밓었다그래서보는것을추천한다', 0],\n",
       " ['교도소 이야기구먼 ..솔직히 재미는 없다..평점 조정', 0],\n",
       " ['사이몬페그의 익살스런 연기가 돋보였던 영화!스파이더맨에서 늙어보이기만 했던 커스틴 던스트가 너무나도 이뻐보였다', 1]]"
      ]
     },
     "execution_count": 10,
     "metadata": {},
     "output_type": "execute_result"
    }
   ],
   "source": [
    "# with문을 사용하여 파일을 불러오기\n",
    "with open('movie_review.pkl', 'rb') as f:\n",
    "    movie = pickle.load(f)\n",
    "movie[:5] # 데이터확인\n",
    "# 0 : 영화에 대한 평가\n",
    "# 1 : 영화에 대한 감성평가 - 0: 부정, 1:긍정"
   ]
  },
  {
   "cell_type": "code",
   "execution_count": 11,
   "id": "bf3fe5f7",
   "metadata": {
    "ExecuteTime": {
     "end_time": "2022-12-01T03:30:03.627290Z",
     "start_time": "2022-12-01T03:30:03.620308Z"
    }
   },
   "outputs": [
    {
     "data": {
      "text/plain": [
       "5000"
      ]
     },
     "execution_count": 11,
     "metadata": {},
     "output_type": "execute_result"
    }
   ],
   "source": [
    "# 전체 리뷰데이터 수(개수) 확인하기\n",
    "# len() 사용해서 리뷰의 개수 구하기\n",
    "len(movie)"
   ]
  },
  {
   "cell_type": "code",
   "execution_count": 32,
   "id": "2e280dae",
   "metadata": {
    "ExecuteTime": {
     "end_time": "2022-12-01T03:46:39.068000Z",
     "start_time": "2022-12-01T03:46:39.053019Z"
    }
   },
   "outputs": [
    {
     "name": "stdout",
     "output_type": "stream",
     "text": [
      "177433\n",
      "리뷰의 평균 길이: 35.4866\n"
     ]
    }
   ],
   "source": [
    "# 전체 리뷰 길이의 평균값을 구해보자\n",
    "# 0번 인덱스의 리뷰의 길이\n",
    "summ1 = 0\n",
    "for i in movie:\n",
    "    summ1 += len(i[0])\n",
    "mean = summ1 /len(movie)\n",
    "print(summ1)\n",
    "print(f\"리뷰의 평균 길이: {mean}\")"
   ]
  },
  {
   "cell_type": "code",
   "execution_count": 87,
   "id": "26964201",
   "metadata": {
    "ExecuteTime": {
     "end_time": "2022-12-02T00:28:45.334783Z",
     "start_time": "2022-12-02T00:28:45.328800Z"
    }
   },
   "outputs": [
    {
     "name": "stdout",
     "output_type": "stream",
     "text": [
      "부정 리뷰의 수2501\n",
      "긍정 리뷰의 수2499\n"
     ]
    }
   ],
   "source": [
    "# 긍정 / 부정 리뷰의 개수를 구해보자\n",
    "# 긍정 / 부정 리뷰 데이터에 접근(인덱싱)\n",
    "summ2 = 0\n",
    "summ3 = 0\n",
    "for i in movie:\n",
    "    if i[1] == 0:\n",
    "        summ2 +=1\n",
    "    else:\n",
    "        summ3 +=1\n",
    "print(f\"부정 리뷰의 수{summ2}\")\n",
    "print(f\"긍정 리뷰의 수{summ3}\")"
   ]
  },
  {
   "cell_type": "code",
   "execution_count": 96,
   "id": "586251d3",
   "metadata": {
    "ExecuteTime": {
     "end_time": "2022-12-02T00:40:01.771871Z",
     "start_time": "2022-12-02T00:40:01.763893Z"
    }
   },
   "outputs": [
    {
     "name": "stdout",
     "output_type": "stream",
     "text": [
      "최대 길이 : 144\n",
      "최소 길이 : 1\n"
     ]
    }
   ],
   "source": [
    "length = []\n",
    "\n",
    "for i in movie:\n",
    "    length.append(len(i[0]))\n",
    "#length\n",
    "max_num = max(length)\n",
    "min_num = min(length)\n",
    "print(f\"최대 길이 : {max_num}\")\n",
    "print(f\"최소 길이 : {min_num}\")"
   ]
  },
  {
   "cell_type": "code",
   "execution_count": 104,
   "id": "15a80271",
   "metadata": {
    "ExecuteTime": {
     "end_time": "2022-12-02T00:45:18.380796Z",
     "start_time": "2022-12-02T00:45:18.361787Z"
    }
   },
   "outputs": [
    {
     "name": "stdout",
     "output_type": "stream",
     "text": [
      "리뷰의 최대 길이는 '144'입니다.\n",
      "리뷰 내용 : \"상처투성이인 한국인을 위하여 어제는 추기경님이 계셨고 오늘은 교황님께서 치유하시고 가셨습니다. \"\" 고난이 나를 찾을때 피하고 싶은 내마음은\"\"하시며 노래부르실때는 한 인간으로서 사제로서 격었을 그분의 고난에 눈물이 흐릅니다. 이땅에 이런어른 더안계시나요\"\n"
     ]
    }
   ],
   "source": [
    "# 리뷰 최대 길이 값을 이용하여 리뷰 내용 가져오기\n",
    "for i in movie:\n",
    "    if max_num == len(i[0]):\n",
    "        xx = i[0]\n",
    "print(f\"리뷰의 최대 길이는 '{max_num}'입니다.\\n리뷰 내용 : {xx}\")"
   ]
  },
  {
   "cell_type": "code",
   "execution_count": null,
   "id": "64ed8efe",
   "metadata": {},
   "outputs": [],
   "source": [
    "# 리뷰 최소 길이 값을 이용하여 리뷰 내용 가져오기"
   ]
  },
  {
   "cell_type": "code",
   "execution_count": 123,
   "id": "de7770c1",
   "metadata": {
    "ExecuteTime": {
     "end_time": "2022-12-02T01:12:17.972335Z",
     "start_time": "2022-12-02T01:12:17.954311Z"
    }
   },
   "outputs": [
    {
     "name": "stdout",
     "output_type": "stream",
     "text": [
      "리뷰의 최소 길이는 '1' 갯수는 19 입니다.\n",
      "리뷰내용 : ['아', '잼', '1', '4', '4', '굿', '짱', '휴', '.', '1', '굿', '음', '?', '?', 'ㅎ', '굿', 'ㅋ', '굿', '즐']입니다.\n"
     ]
    }
   ],
   "source": [
    "siz = []\n",
    "\n",
    "for i in movie:\n",
    "    if min_num == len(i[0]):\n",
    "        siz.append(i[0])\n",
    "print(f\"리뷰의 최소 길이는 '{min_num}' 갯수는 {len(siz)} 입니다.\\n리뷰내용 : {siz[:]}입니다.\")"
   ]
  },
  {
   "cell_type": "code",
   "execution_count": 125,
   "id": "7dcc96a0",
   "metadata": {
    "ExecuteTime": {
     "end_time": "2022-12-02T01:18:42.961069Z",
     "start_time": "2022-12-02T01:18:42.950128Z"
    }
   },
   "outputs": [
    {
     "name": "stdout",
     "output_type": "stream",
     "text": [
      "'ㅋ'가 포함된 리뷰의 갯수는 328 입니다.\n"
     ]
    }
   ],
   "source": [
    "#'ㅋ'가 포함된 리뷰 개수\n",
    "tt = 0\n",
    "for i in movie:\n",
    "    if 'ㅋ' in i[0]:\n",
    "        tt +=1\n",
    "print(f\"'ㅋ'가 포함된 리뷰의 갯수는 {tt} 입니다.\")        "
   ]
  },
  {
   "cell_type": "code",
   "execution_count": 131,
   "id": "00df902a",
   "metadata": {
    "ExecuteTime": {
     "end_time": "2022-12-02T01:35:03.771774Z",
     "start_time": "2022-12-02T01:35:00.445918Z"
    }
   },
   "outputs": [
    {
     "name": "stdout",
     "output_type": "stream",
     "text": [
      "검색할 데이터 입력 >> ?\n",
      "'?'가 포함된 리뷰의 갯수는 404 입니다.\n"
     ]
    }
   ],
   "source": [
    "# 검색할 데이터입력 >> 포함된 리뷰의 개수 구하기\n",
    "ttt = input(\"검색할 데이터 입력 >> \")\n",
    "tt_t = 0\n",
    "for i in movie:\n",
    "    if ttt in i[0]:\n",
    "        tt_t +=1\n",
    "print(f\"'{ttt}'가 포함된 리뷰의 갯수는 {tt_t} 입니다.\")  "
   ]
  },
  {
   "cell_type": "code",
   "execution_count": null,
   "id": "2801200a",
   "metadata": {},
   "outputs": [],
   "source": [
    "# 부정인 리뷰중 최대 길이를 구하고, 그 리뷰 내용 가져오기"
   ]
  },
  {
   "cell_type": "code",
   "execution_count": 135,
   "id": "d1811c0b",
   "metadata": {
    "ExecuteTime": {
     "end_time": "2022-12-02T01:50:49.697964Z",
     "start_time": "2022-12-02T01:50:49.685040Z"
    }
   },
   "outputs": [
    {
     "name": "stdout",
     "output_type": "stream",
     "text": [
      "부정 리뷰중 최대 리뷰 길이는 140 입니다. \n",
      "리뷰내용 : 평점조절위원회에서 나왔습니다(웃음)김혜선은 @내일이 오면@의 김순정,순정이 역할이 제일이다.팜므파탈로써,그 정도까지 잘해낼 줄은,정말 의외였어...연기20년 한사람에게 요즘 사극에서 벌어지고 있는,그녀에 대한 연기논란은 왠지 코미디의한장면 같음(웃음)\n"
     ]
    }
   ],
   "source": [
    "max_neg = len(movie[0])\n",
    "neg_content = \"\"\n",
    "for i in movie:\n",
    "    if i[1] == 0:\n",
    "        if max_neg < len(i[0]):\n",
    "            max_neg = len(i[0])\n",
    "            neg_content = i[0]\n",
    "        \n",
    "print(f\"부정 리뷰중 최대 리뷰 길이는 {max_neg} 입니다. \\n리뷰내용 : {neg_content}\")"
   ]
  },
  {
   "cell_type": "markdown",
   "id": "167c277a",
   "metadata": {},
   "source": [
    "### 멜론차트 top100 활용해서 데이터를 분석해보고 나만의 차트를 만들기"
   ]
  },
  {
   "cell_type": "code",
   "execution_count": 243,
   "id": "b3258d88",
   "metadata": {
    "ExecuteTime": {
     "end_time": "2022-12-02T03:38:24.556933Z",
     "start_time": "2022-12-02T03:38:24.550979Z"
    }
   },
   "outputs": [],
   "source": [
    "# 멜론차트 데이터를 불러와서 데이터 확인해보기\n",
    "# with문 사용해서 데이터 불러오기\n",
    "with open(\"music_100.pkl\", 'rb') as ff:\n",
    "    music1 = pickle.load(ff)\n"
   ]
  },
  {
   "cell_type": "code",
   "execution_count": 244,
   "id": "c7f433ea",
   "metadata": {
    "ExecuteTime": {
     "end_time": "2022-12-02T03:38:27.378012Z",
     "start_time": "2022-12-02T03:38:27.359840Z"
    },
    "scrolled": true
   },
   "outputs": [
    {
     "data": {
      "text/plain": [
       "[[1, '사건의 지평선', '윤하 (YOUNHA)'],\n",
       " [2, 'ANTIFRAGILE', 'LE SSERAFIM (르세라핌)'],\n",
       " [3, 'Hype boy', 'NewJeans'],\n",
       " [4, 'Nxde', '(여자)아이들'],\n",
       " [5, 'After LIKE', 'IVE (아이브)'],\n",
       " [6, '새삥 (Prod. ZICO) (Feat. 호미들)', '지코 (ZICO)'],\n",
       " [7, '사랑은 늘 도망가', '임영웅'],\n",
       " [8, 'Attention', 'NewJeans'],\n",
       " [9, 'Rush Hour (Feat. j-hope of BTS)', 'Crush'],\n",
       " [10, 'LOVE DIVE', 'IVE (아이브)'],\n",
       " [11, '우리들의 블루스', '임영웅'],\n",
       " [12, 'Monologue', '테이'],\n",
       " [13, 'Shut Down', 'BLACKPINK'],\n",
       " [14, '다시 만날 수 있을까', '임영웅'],\n",
       " [15, 'London Boy', '임영웅'],\n",
       " [16, 'Pink Venom', 'BLACKPINK'],\n",
       " [17, '무지개', '임영웅'],\n",
       " [18, 'Polaroid', '임영웅'],\n",
       " [19, '이제 나만 믿어요', '임영웅'],\n",
       " [20, '자격지심 (Feat. ZICO)', \"BE'O (비오)\"],\n",
       " [21, '아버지', '임영웅'],\n",
       " [22, 'A bientot', '임영웅'],\n",
       " [23, '해요 (2022)', '#안녕'],\n",
       " [24, '손이 참 곱던 그대', '임영웅'],\n",
       " [25, '인생찬가', '임영웅'],\n",
       " [26, '딱 10CM만', '10CM, BIG Naughty (서동현)'],\n",
       " [27, 'TOMBOY', '(여자)아이들'],\n",
       " [28, '사랑해 진짜', '임영웅'],\n",
       " [29, '그때 그 순간 그대로 (그그그)', 'WSG워너비 (가야G)'],\n",
       " [30, '사랑인가 봐', '멜로망스'],\n",
       " [31, '연애편지', '임영웅'],\n",
       " [32, '내가 아니라도', '주호'],\n",
       " [33, '너의 모든 순간', '성시경'],\n",
       " [34, '그라데이션', '10CM'],\n",
       " [35, 'Cookie', 'NewJeans'],\n",
       " [36,\n",
       "  'Dreamers [Music from the FIFA World Cup Qatar 2022 Official Soundtrack] (Feat. FIFA Sound)',\n",
       "  '정국, 방탄소년단'],\n",
       " [37, '우린 그렇게 사랑해서', '강민경 (다비치), 잔나비 최정훈'],\n",
       " [38, 'FEARLESS', 'LE SSERAFIM (르세라핌)'],\n",
       " [39, '보금자리', '임영웅'],\n",
       " [40, '정이라고 하자 (Feat. 10CM)', 'BIG Naughty (서동현)'],\n",
       " [41, '취중고백', '김민석 (멜로망스)'],\n",
       " [42, 'ELEVEN', 'IVE (아이브)'],\n",
       " [43, '나의 X에게', '경서'],\n",
       " [44, '보고싶었어', 'WSG워너비 (4FIRE)'],\n",
       " [45, '떠나보낼 준비해 둘걸 그랬어', '임한별'],\n",
       " [46, 'That That (prod. & feat. SUGA of BTS)', '싸이 (PSY)'],\n",
       " [47, \"That's Hilarious\", 'Charlie Puth'],\n",
       " [48, 'Snowman', 'Sia'],\n",
       " [49, '다정히 내 이름을 부르면', '경서예지, 전건호'],\n",
       " [50, 'Dynamite', '방탄소년단'],\n",
       " [51, \"I Don't Think That I Like Her\", 'Charlie Puth'],\n",
       " [52, 'LOVE me', \"BE'O (비오)\"],\n",
       " [53, '모든 날, 모든 순간 (Every day, Every Moment)', '폴킴'],\n",
       " [54, '주저하는 연인들을 위해', '잔나비'],\n",
       " [55, '내 기쁨은 너가 벤틀리를 끄는 거야', '김승민'],\n",
       " [56, 'Left and Right (Feat. Jung Kook of BTS)', 'Charlie Puth, 정국, 방탄소년단'],\n",
       " [57, 'FOREVER 1', \"소녀시대 (GIRLS' GENERATION)\"],\n",
       " [58, '새벽에 걸려온 너의 전화는', '한동근'],\n",
       " [59, '첫사랑', '백아'],\n",
       " [60, 'Butter', '방탄소년단'],\n",
       " [61, 'All I Want for Christmas Is You', 'Mariah Carey'],\n",
       " [62, '봄날', '방탄소년단'],\n",
       " [63, '밤하늘의 별을(2020)', '경서'],\n",
       " [64, 'Birthday', 'Red Velvet (레드벨벳)'],\n",
       " [65, 'STAY', 'The Kid LAROI, Justin Bieber'],\n",
       " [66, 'SNEAKERS', 'ITZY (있지)'],\n",
       " [67, 'Love story', '볼빨간사춘기'],\n",
       " [68, '봄여름가을겨울 (Still Life)', 'BIGBANG (빅뱅)'],\n",
       " [69, '고백연습', '경서'],\n",
       " [70, 'Yet To Come', '방탄소년단'],\n",
       " [71, '도깨비불 (Illusion)', 'aespa'],\n",
       " [72, 'Permission to Dance', '방탄소년단'],\n",
       " [73, 'Feel My Rhythm', 'Red Velvet (레드벨벳)'],\n",
       " [74, '사랑한다고 말해줘', '탑현'],\n",
       " [75, 'The Astronaut', '진'],\n",
       " [76, 'LAW (Prod. Czaer)', '윤미래, 비비 (BIBI)'],\n",
       " [77, '내 손을 잡아', '아이유'],\n",
       " [78, 'POP!', '나연 (TWICE)'],\n",
       " [79, 'Off My Face', 'Justin Bieber'],\n",
       " [80, 'INVU', '태연 (TAEYEON)'],\n",
       " [81, '드라마', '아이유'],\n",
       " [82, '신호등', '이무진'],\n",
       " [83, '스티커 사진', '21학번'],\n",
       " [84, 'strawberry moon', '아이유'],\n",
       " [85, 'Santa Tell Me', 'Ariana Grande'],\n",
       " [86, 'WHEN I MOVE', '카라'],\n",
       " [87, '회전목마 (Feat. Zion.T, 원슈타인) (Prod. Slom)', 'sokodomo'],\n",
       " [88, '그래서 그대는', '이영현'],\n",
       " [89, 'MY BAG', '(여자)아이들'],\n",
       " [90, 'Next Level', 'aespa'],\n",
       " [91, '그중에 그대를 만나', '김호중'],\n",
       " [92, \"바보에게 바보가 (웹툰 '연애의 발견' X 이석훈)\", '이석훈'],\n",
       " [93, '통화연결음', '보라미유, MJ (써니사이드)'],\n",
       " [94, '오르트구름', '윤하 (YOUNHA)'],\n",
       " [95, 'Cheshire', 'ITZY (있지)'],\n",
       " [96, '늦은 밤 헤어지긴 너무 아쉬워', '케이시 (Kassy)'],\n",
       " [97, '모든 계절은 너였다', '길구봉구'],\n",
       " [98, '나의 목소리로', '김호중'],\n",
       " [99, '못해', '김나영'],\n",
       " [100, 'DICE', 'NMIXX']]"
      ]
     },
     "execution_count": 244,
     "metadata": {},
     "output_type": "execute_result"
    }
   ],
   "source": [
    "music1[:]"
   ]
  },
  {
   "cell_type": "code",
   "execution_count": 245,
   "id": "119a1e48",
   "metadata": {
    "ExecuteTime": {
     "end_time": "2022-12-02T03:38:33.526323Z",
     "start_time": "2022-12-02T03:38:33.510365Z"
    }
   },
   "outputs": [
    {
     "data": {
      "text/plain": [
       "[[82, '신호등', '이무진'],\n",
       " [83, '스티커 사진', '21학번'],\n",
       " [84, 'strawberry moon', '아이유'],\n",
       " [85, 'Santa Tell Me', 'Ariana Grande'],\n",
       " [86, 'WHEN I MOVE', '카라'],\n",
       " [87, '회전목마 (Feat. Zion.T, 원슈타인) (Prod. Slom)', 'sokodomo'],\n",
       " [88, '그래서 그대는', '이영현'],\n",
       " [89, 'MY BAG', '(여자)아이들'],\n",
       " [90, 'Next Level', 'aespa'],\n",
       " [91, '그중에 그대를 만나', '김호중'],\n",
       " [92, \"바보에게 바보가 (웹툰 '연애의 발견' X 이석훈)\", '이석훈'],\n",
       " [93, '통화연결음', '보라미유, MJ (써니사이드)'],\n",
       " [94, '오르트구름', '윤하 (YOUNHA)'],\n",
       " [95, 'Cheshire', 'ITZY (있지)'],\n",
       " [96, '늦은 밤 헤어지긴 너무 아쉬워', '케이시 (Kassy)'],\n",
       " [97, '모든 계절은 너였다', '길구봉구'],\n",
       " [98, '나의 목소리로', '김호중']]"
      ]
     },
     "execution_count": 245,
     "metadata": {},
     "output_type": "execute_result"
    }
   ],
   "source": [
    "# 슬라이싱 : 82위 ~ 98위 차트 출력해보기\n",
    "music1[81:98]"
   ]
  },
  {
   "attachments": {
    "image.png": {
     "image/png": "[encoded data removed]"
    }
   },
   "cell_type": "markdown",
   "id": "3fcc2e2d",
   "metadata": {},
   "source": [
    "![image.png](attachment:image.png)"
   ]
  },
  {
   "cell_type": "code",
   "execution_count": 247,
   "id": "80656227",
   "metadata": {
    "ExecuteTime": {
     "end_time": "2022-12-02T03:38:49.734467Z",
     "start_time": "2022-12-02T03:38:49.143909Z"
    }
   },
   "outputs": [
    {
     "name": "stdout",
     "output_type": "stream",
     "text": [
      "제목 중 찾고 싶은 키워드를 입력하세요 >> 나\n",
      "나으로 검색한 노래수 : 5곡 \n",
      " 순위와 노래 제목 : [[19, '이제 나만 믿어요'], [43, '나의 X에게'], [45, '떠나보낼 준비해 둘걸 그랬어'], [91, '그중에 그대를 만나'], [98, '나의 목소리로']] \n"
     ]
    }
   ],
   "source": [
    "input_text = input(\"제목 중 찾고 싶은 키워드를 입력하세요 >> \")\n",
    "textlist = []\n",
    "text_cont = 0\n",
    "for i in music1:\n",
    "    if input_text in i[1]:\n",
    "        text_cont += 1\n",
    "        textlist.append([i[0],i[1]])\n",
    "print(f\"{input_text}으로 검색한 노래수 : {text_cont}곡 \\n 순위와 노래 제목 : {textlist} \")"
   ]
  },
  {
   "cell_type": "code",
   "execution_count": null,
   "id": "0acbbd47",
   "metadata": {},
   "outputs": [],
   "source": []
  },
  {
   "cell_type": "code",
   "execution_count": 248,
   "id": "a528fc88",
   "metadata": {
    "ExecuteTime": {
     "end_time": "2022-12-02T03:38:57.679051Z",
     "start_time": "2022-12-02T03:38:55.910820Z"
    }
   },
   "outputs": [
    {
     "name": "stdout",
     "output_type": "stream",
     "text": [
      "가수명을 입력하세요 >> 아이유\n",
      "아이유가 부른 노래는 ['내 손을 잡아', '드라마', 'strawberry moon']\n"
     ]
    }
   ],
   "source": [
    "siger = input(\"가수명을 입력하세요 >> \")\n",
    "song = []\n",
    "for i in music1:\n",
    "    if siger in i[2]:\n",
    "        song.append(i[1])\n",
    "print(f\"{siger}가 부른 노래는 {song}\")"
   ]
  },
  {
   "cell_type": "code",
   "execution_count": null,
   "id": "0ab8fcb7",
   "metadata": {},
   "outputs": [],
   "source": [
    "# 1위 곡을 삭제하고 나의 최애곡을 1위곡으로 만들기\n",
    "# 1. 1위곡 삭제 del\n",
    "\n",
    "# 2. 삭제 확인\n",
    "\n",
    "# 3. 나의 최애곡을 1위곡으로 추가하기 append\n",
    "\n",
    "# 4. 추가 확인 후 정렬\n",
    "\n",
    "# 5. 순위대로 출력해보기 : 1 ~ 10"
   ]
  },
  {
   "cell_type": "code",
   "execution_count": 249,
   "id": "f7a98a4c",
   "metadata": {
    "ExecuteTime": {
     "end_time": "2022-12-02T03:39:18.197913Z",
     "start_time": "2022-12-02T03:39:18.192929Z"
    }
   },
   "outputs": [],
   "source": [
    "del(music1[0])"
   ]
  },
  {
   "cell_type": "code",
   "execution_count": 254,
   "id": "c71f39c0",
   "metadata": {
    "ExecuteTime": {
     "end_time": "2022-12-02T03:39:34.190734Z",
     "start_time": "2022-12-02T03:39:34.175771Z"
    }
   },
   "outputs": [
    {
     "data": {
      "text/plain": [
       "[[1, '사이렌', '호미들'],\n",
       " [2, 'ANTIFRAGILE', 'LE SSERAFIM (르세라핌)'],\n",
       " [3, 'Hype boy', 'NewJeans'],\n",
       " [4, 'Nxde', '(여자)아이들'],\n",
       " [5, 'After LIKE', 'IVE (아이브)'],\n",
       " [6, '새삥 (Prod. ZICO) (Feat. 호미들)', '지코 (ZICO)'],\n",
       " [7, '사랑은 늘 도망가', '임영웅'],\n",
       " [8, 'Attention', 'NewJeans'],\n",
       " [9, 'Rush Hour (Feat. j-hope of BTS)', 'Crush'],\n",
       " [10, 'LOVE DIVE', 'IVE (아이브)']]"
      ]
     },
     "execution_count": 254,
     "metadata": {},
     "output_type": "execute_result"
    }
   ],
   "source": [
    "music1[:10]"
   ]
  },
  {
   "cell_type": "code",
   "execution_count": 251,
   "id": "42258eb8",
   "metadata": {
    "ExecuteTime": {
     "end_time": "2022-12-02T03:39:22.337791Z",
     "start_time": "2022-12-02T03:39:22.319819Z"
    }
   },
   "outputs": [],
   "source": [
    "music1.append([1,\"사이렌\",\"호미들\"])\n"
   ]
  },
  {
   "cell_type": "code",
   "execution_count": 231,
   "id": "7dd563fe",
   "metadata": {
    "ExecuteTime": {
     "end_time": "2022-12-02T03:18:58.050328Z",
     "start_time": "2022-12-02T03:18:58.032760Z"
    }
   },
   "outputs": [
    {
     "data": {
      "text/plain": [
       "1"
      ]
     },
     "execution_count": 231,
     "metadata": {},
     "output_type": "execute_result"
    }
   ],
   "source": [
    "music1[99][0]"
   ]
  },
  {
   "cell_type": "code",
   "execution_count": 253,
   "id": "7303946e",
   "metadata": {
    "ExecuteTime": {
     "end_time": "2022-12-02T03:39:29.706507Z",
     "start_time": "2022-12-02T03:39:29.695531Z"
    }
   },
   "outputs": [],
   "source": [
    "music1.sort()"
   ]
  },
  {
   "attachments": {
    "image.png": {
     "image/png": "[encoded data removed]"
    }
   },
   "cell_type": "markdown",
   "id": "0c4cbe62",
   "metadata": {},
   "source": [
    "![image.png](attachment:image.png)"
   ]
  },
  {
   "cell_type": "code",
   "execution_count": 268,
   "id": "81bc22b4",
   "metadata": {
    "ExecuteTime": {
     "end_time": "2022-12-02T03:45:45.967509Z",
     "start_time": "2022-12-02T03:45:45.949538Z"
    }
   },
   "outputs": [
    {
     "name": "stdout",
     "output_type": "stream",
     "text": [
      "melon 차트 속 나의 노래 : 총 14곡\n",
      "나의 노래들 : [[7, '사랑은 늘 도망가', '김시우'], [11, '우리들의 블루스', '김시우'], [14, '다시 만날 수 있을까', '김시우'], [15, 'London Boy', '김시우'], [17, '무지개', '김시우'], [18, 'Polaroid', '김시우'], [19, '이제 나만 믿어요', '김시우'], [21, '아버지', '김시우'], [22, 'A bientot', '김시우'], [24, '손이 참 곱던 그대', '김시우'], [25, '인생찬가', '김시우'], [28, '사랑해 진짜', '김시우'], [31, '연애편지', '김시우'], [39, '보금자리', '김시우']]\n"
     ]
    }
   ],
   "source": [
    "name = '김시우'\n",
    "cnt = 0\n",
    "my_song = []\n",
    "for i in music1:\n",
    "    \n",
    "    if '김시우' == i[2]:\n",
    "        i[2] = name\n",
    "        my_song.append([i[0],i[1],i[2]])\n",
    "        cnt +=1\n",
    "print(f\"melon 차트 속 나의 노래 : 총 {cnt}곡\")\n",
    "print(f\"나의 노래들 : {my_song}\")"
   ]
  },
  {
   "cell_type": "code",
   "execution_count": 257,
   "id": "3589d98e",
   "metadata": {
    "ExecuteTime": {
     "end_time": "2022-12-02T03:40:41.324658Z",
     "start_time": "2022-12-02T03:40:39.752458Z"
    }
   },
   "outputs": [
    {
     "name": "stdout",
     "output_type": "stream",
     "text": [
      "가수명을 입력하세요 >> 김시우\n",
      "김시우가 부른 노래는 ['사랑은 늘 도망가']\n"
     ]
    }
   ],
   "source": [
    "siger = input(\"가수명을 입력하세요 >> \")\n",
    "song = []\n",
    "for i in music1:\n",
    "    if siger in i[2]:\n",
    "        song.append(i[1])\n",
    "print(f\"{siger}가 부른 노래는 {song}\")"
   ]
  },
  {
   "cell_type": "code",
   "execution_count": 269,
   "id": "709a3110",
   "metadata": {
    "ExecuteTime": {
     "end_time": "2022-12-02T03:48:55.004209Z",
     "start_time": "2022-12-02T03:48:54.991274Z"
    }
   },
   "outputs": [],
   "source": [
    "# 내가 만든 나만의 멜론차트를 파일로 저장하기\n",
    "with open('my_melon.pkl', 'wb') as f:\n",
    "    pickle.dump(music1,f)"
   ]
  },
  {
   "cell_type": "code",
   "execution_count": 272,
   "id": "e42733d7",
   "metadata": {
    "ExecuteTime": {
     "end_time": "2022-12-02T03:50:09.929181Z",
     "start_time": "2022-12-02T03:50:09.911210Z"
    }
   },
   "outputs": [
    {
     "data": {
      "text/plain": [
       "[[1, '사이렌', '호미들'],\n",
       " [2, 'ANTIFRAGILE', 'LE SSERAFIM (르세라핌)'],\n",
       " [3, 'Hype boy', 'NewJeans'],\n",
       " [4, 'Nxde', '(여자)아이들'],\n",
       " [5, 'After LIKE', 'IVE (아이브)'],\n",
       " [6, '새삥 (Prod. ZICO) (Feat. 호미들)', '지코 (ZICO)'],\n",
       " [7, '사랑은 늘 도망가', '김시우'],\n",
       " [8, 'Attention', 'NewJeans'],\n",
       " [9, 'Rush Hour (Feat. j-hope of BTS)', 'Crush'],\n",
       " [10, 'LOVE DIVE', 'IVE (아이브)'],\n",
       " [11, '우리들의 블루스', '김시우'],\n",
       " [12, 'Monologue', '테이'],\n",
       " [13, 'Shut Down', 'BLACKPINK'],\n",
       " [14, '다시 만날 수 있을까', '김시우'],\n",
       " [15, 'London Boy', '김시우']]"
      ]
     },
     "execution_count": 272,
     "metadata": {},
     "output_type": "execute_result"
    }
   ],
   "source": [
    "# 불러오기\n",
    "with open('my_melon.pkl', 'rb') as f:\n",
    "    m = pickle.load(f)\n",
    "m[:15]"
   ]
  },
  {
   "cell_type": "code",
   "execution_count": null,
   "id": "ed32e174",
   "metadata": {},
   "outputs": [],
   "source": []
  },
  {
   "cell_type": "code",
   "execution_count": null,
   "id": "257269de",
   "metadata": {},
   "outputs": [],
   "source": []
  },
  {
   "cell_type": "code",
   "execution_count": null,
   "id": "7b242809",
   "metadata": {},
   "outputs": [],
   "source": []
  },
  {
   "cell_type": "code",
   "execution_count": null,
   "id": "d849786c",
   "metadata": {},
   "outputs": [],
   "source": []
  },
  {
   "cell_type": "code",
   "execution_count": null,
   "id": "014c0db5",
   "metadata": {},
   "outputs": [],
   "source": []
  },
  {
   "cell_type": "code",
   "execution_count": null,
   "id": "e2f0fc23",
   "metadata": {},
   "outputs": [],
   "source": []
  },
  {
   "cell_type": "code",
   "execution_count": null,
   "id": "c970707f",
   "metadata": {},
   "outputs": [],
   "source": []
  }
 ],
 "metadata": {
  "kernelspec": {
   "display_name": "Python 3 (ipykernel)",
   "language": "python",
   "name": "python3"
  },
  "language_info": {
   "codemirror_mode": {
    "name": "ipython",
    "version": 3
   },
   "file_extension": ".py",
   "mimetype": "text/x-python",
   "name": "python",
   "nbconvert_exporter": "python",
   "pygments_lexer": "ipython3",
   "version": "3.9.13"
  },
  "toc": {
   "base_numbering": 1,
   "nav_menu": {},
   "number_sections": true,
   "sideBar": true,
   "skip_h1_title": false,
   "title_cell": "Table of Contents",
   "title_sidebar": "Contents",
   "toc_cell": false,
   "toc_position": {},
   "toc_section_display": true,
   "toc_window_display": false
  }
 },
 "nbformat": 4,
 "nbformat_minor": 5
}
